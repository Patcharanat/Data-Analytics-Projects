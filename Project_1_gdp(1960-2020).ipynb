{
 "cells": [
  {
   "cell_type": "markdown",
   "id": "d3d5b4b7",
   "metadata": {},
   "source": [
    "# Project 1 - GDP of all countries(1960-2020)\n",
    "### For an educational Purpose\n",
    "\n",
    "##### <u><b>Objective</b> : Exploratory Data Analysis (EDA) & Basic plot</u>\n",
    "\n",
    "\n",
    "<b>Mini-project by Patcharanat Pattanaporn (ken)</b><br>\n",
    "\n",
    "dataset : 'gdp_1960_2020.csv'<br>\n",
    "<i>Data Source : <a>href=https://www.kaggle.com/holoong9291/gdp-of-all-countries19602020</a></i>"
   ]
  },
  {
   "cell_type": "code",
   "execution_count": 1,
   "id": "50b6734e",
   "metadata": {},
   "outputs": [],
   "source": [
    "import numpy as np\n",
    "import pandas as pd\n",
    "import matplotlib.pyplot as plt"
   ]
  },
  {
   "cell_type": "markdown",
   "id": "ff7138b6",
   "metadata": {},
   "source": [
    "> Import Dataset"
   ]
  },
  {
   "cell_type": "code",
   "execution_count": 2,
   "id": "7ca1559e",
   "metadata": {},
   "outputs": [],
   "source": [
    "df = pd.read_csv('gdp_1960_2020.csv')"
   ]
  },
  {
   "cell_type": "markdown",
   "id": "d3384be4",
   "metadata": {},
   "source": [
    "> Check if data is cleaned or not"
   ]
  },
  {
   "cell_type": "code",
   "execution_count": 3,
   "id": "dba3836a",
   "metadata": {},
   "outputs": [
    {
     "data": {
      "text/plain": [
       "year           0\n",
       "rank           0\n",
       "country        0\n",
       "state          0\n",
       "gdp            0\n",
       "gdp_percent    0\n",
       "dtype: int64"
      ]
     },
     "execution_count": 3,
     "metadata": {},
     "output_type": "execute_result"
    }
   ],
   "source": [
    "pd.isna(df).sum()"
   ]
  },
  {
   "cell_type": "markdown",
   "id": "a85dfd68",
   "metadata": {},
   "source": [
    "> Data is already cleaned in this case, so <b>no 'Data Cleaning' Process</b>"
   ]
  },
  {
   "cell_type": "markdown",
   "id": "0bae0417",
   "metadata": {},
   "source": [
    "> Then, check introductory details about data"
   ]
  },
  {
   "cell_type": "code",
   "execution_count": 4,
   "id": "f47dffed",
   "metadata": {},
   "outputs": [
    {
     "data": {
      "text/html": [
       "<div>\n",
       "<style scoped>\n",
       "    .dataframe tbody tr th:only-of-type {\n",
       "        vertical-align: middle;\n",
       "    }\n",
       "\n",
       "    .dataframe tbody tr th {\n",
       "        vertical-align: top;\n",
       "    }\n",
       "\n",
       "    .dataframe thead th {\n",
       "        text-align: right;\n",
       "    }\n",
       "</style>\n",
       "<table border=\"1\" class=\"dataframe\">\n",
       "  <thead>\n",
       "    <tr style=\"text-align: right;\">\n",
       "      <th></th>\n",
       "      <th>year</th>\n",
       "      <th>rank</th>\n",
       "      <th>country</th>\n",
       "      <th>state</th>\n",
       "      <th>gdp</th>\n",
       "      <th>gdp_percent</th>\n",
       "    </tr>\n",
       "  </thead>\n",
       "  <tbody>\n",
       "    <tr>\n",
       "      <th>0</th>\n",
       "      <td>1960</td>\n",
       "      <td>1</td>\n",
       "      <td>the United States</td>\n",
       "      <td>America</td>\n",
       "      <td>543300000000</td>\n",
       "      <td>4.684827e-01</td>\n",
       "    </tr>\n",
       "    <tr>\n",
       "      <th>1</th>\n",
       "      <td>1960</td>\n",
       "      <td>2</td>\n",
       "      <td>United Kingdom</td>\n",
       "      <td>Europe</td>\n",
       "      <td>73233967692</td>\n",
       "      <td>6.314899e-02</td>\n",
       "    </tr>\n",
       "    <tr>\n",
       "      <th>2</th>\n",
       "      <td>1960</td>\n",
       "      <td>3</td>\n",
       "      <td>France</td>\n",
       "      <td>Europe</td>\n",
       "      <td>62225478000</td>\n",
       "      <td>5.365647e-02</td>\n",
       "    </tr>\n",
       "    <tr>\n",
       "      <th>3</th>\n",
       "      <td>1960</td>\n",
       "      <td>4</td>\n",
       "      <td>China</td>\n",
       "      <td>Asia</td>\n",
       "      <td>59716467625</td>\n",
       "      <td>5.149297e-02</td>\n",
       "    </tr>\n",
       "    <tr>\n",
       "      <th>4</th>\n",
       "      <td>1960</td>\n",
       "      <td>5</td>\n",
       "      <td>Japan</td>\n",
       "      <td>Asia</td>\n",
       "      <td>44307342950</td>\n",
       "      <td>3.820582e-02</td>\n",
       "    </tr>\n",
       "    <tr>\n",
       "      <th>...</th>\n",
       "      <td>...</td>\n",
       "      <td>...</td>\n",
       "      <td>...</td>\n",
       "      <td>...</td>\n",
       "      <td>...</td>\n",
       "      <td>...</td>\n",
       "    </tr>\n",
       "    <tr>\n",
       "      <th>10129</th>\n",
       "      <td>2020</td>\n",
       "      <td>171</td>\n",
       "      <td>Samoa</td>\n",
       "      <td>Oceania</td>\n",
       "      <td>807027244</td>\n",
       "      <td>1.040774e-05</td>\n",
       "    </tr>\n",
       "    <tr>\n",
       "      <th>10130</th>\n",
       "      <td>2020</td>\n",
       "      <td>172</td>\n",
       "      <td>Sao Tome and Principe.</td>\n",
       "      <td>Africa</td>\n",
       "      <td>472914469</td>\n",
       "      <td>6.098888e-06</td>\n",
       "    </tr>\n",
       "    <tr>\n",
       "      <th>10131</th>\n",
       "      <td>2020</td>\n",
       "      <td>173</td>\n",
       "      <td>Dominica</td>\n",
       "      <td>America</td>\n",
       "      <td>469870370</td>\n",
       "      <td>6.059630e-06</td>\n",
       "    </tr>\n",
       "    <tr>\n",
       "      <th>10132</th>\n",
       "      <td>2020</td>\n",
       "      <td>174</td>\n",
       "      <td>Kiribati</td>\n",
       "      <td>Oceania</td>\n",
       "      <td>199573325</td>\n",
       "      <td>2.573775e-06</td>\n",
       "    </tr>\n",
       "    <tr>\n",
       "      <th>10133</th>\n",
       "      <td>2020</td>\n",
       "      <td>175</td>\n",
       "      <td>Tuvalu</td>\n",
       "      <td>Oceania</td>\n",
       "      <td>48855550</td>\n",
       "      <td>6.300601e-07</td>\n",
       "    </tr>\n",
       "  </tbody>\n",
       "</table>\n",
       "<p>10134 rows × 6 columns</p>\n",
       "</div>"
      ],
      "text/plain": [
       "       year  rank                 country    state           gdp   gdp_percent\n",
       "0      1960     1       the United States  America  543300000000  4.684827e-01\n",
       "1      1960     2          United Kingdom   Europe   73233967692  6.314899e-02\n",
       "2      1960     3                  France   Europe   62225478000  5.365647e-02\n",
       "3      1960     4                   China     Asia   59716467625  5.149297e-02\n",
       "4      1960     5                   Japan     Asia   44307342950  3.820582e-02\n",
       "...     ...   ...                     ...      ...           ...           ...\n",
       "10129  2020   171                   Samoa  Oceania     807027244  1.040774e-05\n",
       "10130  2020   172  Sao Tome and Principe.   Africa     472914469  6.098888e-06\n",
       "10131  2020   173                Dominica  America     469870370  6.059630e-06\n",
       "10132  2020   174                Kiribati  Oceania     199573325  2.573775e-06\n",
       "10133  2020   175                  Tuvalu  Oceania      48855550  6.300601e-07\n",
       "\n",
       "[10134 rows x 6 columns]"
      ]
     },
     "execution_count": 4,
     "metadata": {},
     "output_type": "execute_result"
    }
   ],
   "source": [
    "df"
   ]
  },
  {
   "cell_type": "code",
   "execution_count": 5,
   "id": "e063adf2",
   "metadata": {},
   "outputs": [
    {
     "name": "stdout",
     "output_type": "stream",
     "text": [
      "<class 'pandas.core.frame.DataFrame'>\n",
      "RangeIndex: 10134 entries, 0 to 10133\n",
      "Data columns (total 6 columns):\n",
      " #   Column       Non-Null Count  Dtype  \n",
      "---  ------       --------------  -----  \n",
      " 0   year         10134 non-null  int64  \n",
      " 1   rank         10134 non-null  int64  \n",
      " 2   country      10134 non-null  object \n",
      " 3   state        10134 non-null  object \n",
      " 4   gdp          10134 non-null  int64  \n",
      " 5   gdp_percent  10134 non-null  float64\n",
      "dtypes: float64(1), int64(3), object(2)\n",
      "memory usage: 475.2+ KB\n"
     ]
    },
    {
     "data": {
      "text/html": [
       "<div>\n",
       "<style scoped>\n",
       "    .dataframe tbody tr th:only-of-type {\n",
       "        vertical-align: middle;\n",
       "    }\n",
       "\n",
       "    .dataframe tbody tr th {\n",
       "        vertical-align: top;\n",
       "    }\n",
       "\n",
       "    .dataframe thead th {\n",
       "        text-align: right;\n",
       "    }\n",
       "</style>\n",
       "<table border=\"1\" class=\"dataframe\">\n",
       "  <thead>\n",
       "    <tr style=\"text-align: right;\">\n",
       "      <th></th>\n",
       "      <th>year</th>\n",
       "      <th>rank</th>\n",
       "      <th>gdp</th>\n",
       "      <th>gdp_percent</th>\n",
       "    </tr>\n",
       "  </thead>\n",
       "  <tbody>\n",
       "    <tr>\n",
       "      <th>count</th>\n",
       "      <td>10134.000000</td>\n",
       "      <td>10134.000000</td>\n",
       "      <td>1.013400e+04</td>\n",
       "      <td>1.013400e+04</td>\n",
       "    </tr>\n",
       "    <tr>\n",
       "      <th>mean</th>\n",
       "      <td>1993.579238</td>\n",
       "      <td>87.353069</td>\n",
       "      <td>1.773584e+11</td>\n",
       "      <td>6.019341e-03</td>\n",
       "    </tr>\n",
       "    <tr>\n",
       "      <th>std</th>\n",
       "      <td>16.841720</td>\n",
       "      <td>53.688994</td>\n",
       "      <td>9.522888e+11</td>\n",
       "      <td>2.748022e-02</td>\n",
       "    </tr>\n",
       "    <tr>\n",
       "      <th>min</th>\n",
       "      <td>1960.000000</td>\n",
       "      <td>1.000000</td>\n",
       "      <td>8.824447e+06</td>\n",
       "      <td>3.550683e-07</td>\n",
       "    </tr>\n",
       "    <tr>\n",
       "      <th>25%</th>\n",
       "      <td>1980.000000</td>\n",
       "      <td>42.000000</td>\n",
       "      <td>1.380725e+09</td>\n",
       "      <td>8.875239e-05</td>\n",
       "    </tr>\n",
       "    <tr>\n",
       "      <th>50%</th>\n",
       "      <td>1995.000000</td>\n",
       "      <td>84.000000</td>\n",
       "      <td>7.559957e+09</td>\n",
       "      <td>3.650213e-04</td>\n",
       "    </tr>\n",
       "    <tr>\n",
       "      <th>75%</th>\n",
       "      <td>2008.000000</td>\n",
       "      <td>128.000000</td>\n",
       "      <td>4.995662e+10</td>\n",
       "      <td>2.499742e-03</td>\n",
       "    </tr>\n",
       "    <tr>\n",
       "      <th>max</th>\n",
       "      <td>2020.000000</td>\n",
       "      <td>206.000000</td>\n",
       "      <td>2.143322e+13</td>\n",
       "      <td>4.684827e-01</td>\n",
       "    </tr>\n",
       "  </tbody>\n",
       "</table>\n",
       "</div>"
      ],
      "text/plain": [
       "               year          rank           gdp   gdp_percent\n",
       "count  10134.000000  10134.000000  1.013400e+04  1.013400e+04\n",
       "mean    1993.579238     87.353069  1.773584e+11  6.019341e-03\n",
       "std       16.841720     53.688994  9.522888e+11  2.748022e-02\n",
       "min     1960.000000      1.000000  8.824447e+06  3.550683e-07\n",
       "25%     1980.000000     42.000000  1.380725e+09  8.875239e-05\n",
       "50%     1995.000000     84.000000  7.559957e+09  3.650213e-04\n",
       "75%     2008.000000    128.000000  4.995662e+10  2.499742e-03\n",
       "max     2020.000000    206.000000  2.143322e+13  4.684827e-01"
      ]
     },
     "execution_count": 5,
     "metadata": {},
     "output_type": "execute_result"
    }
   ],
   "source": [
    "df.info()\n",
    "df.describe()"
   ]
  },
  {
   "cell_type": "markdown",
   "id": "52142849",
   "metadata": {},
   "source": [
    "> Next step is EDA and basic data visualization"
   ]
  },
  {
   "cell_type": "code",
   "execution_count": 6,
   "id": "9b48cfb9",
   "metadata": {},
   "outputs": [
    {
     "data": {
      "text/plain": [
       "2014    206\n",
       "2013    206\n",
       "2011    206\n",
       "2016    205\n",
       "2015    205\n",
       "       ... \n",
       "1962    105\n",
       "1964    105\n",
       "1963    105\n",
       "1961    103\n",
       "1960    103\n",
       "Name: year, Length: 61, dtype: int64"
      ]
     },
     "execution_count": 6,
     "metadata": {},
     "output_type": "execute_result"
    }
   ],
   "source": [
    "df['year'].value_counts()\n",
    "# 61 years on recorded"
   ]
  },
  {
   "cell_type": "code",
   "execution_count": 7,
   "id": "a8d4e672",
   "metadata": {},
   "outputs": [
    {
     "data": {
      "text/plain": [
       "Dominica                    105\n",
       "the United States            61\n",
       "Bolivia                      61\n",
       "Honduras                     61\n",
       "Uganda                       61\n",
       "                           ... \n",
       "Cayman Islands               16\n",
       "Nauru                        13\n",
       "South Sultan                  9\n",
       "Cura ç Ao                     9\n",
       "Netherlands Saint Martin      8\n",
       "Name: country, Length: 209, dtype: int64"
      ]
     },
     "execution_count": 7,
     "metadata": {},
     "output_type": "execute_result"
    }
   ],
   "source": [
    "df['country'].value_counts()\n",
    "# 209 countries distinct"
   ]
  },
  {
   "cell_type": "code",
   "execution_count": 8,
   "id": "6fc039e9",
   "metadata": {},
   "outputs": [
    {
     "data": {
      "text/plain": [
       "the United States    61\n",
       "Japan                53\n",
       "Germany              38\n",
       "China                14\n",
       "France               10\n",
       "United Kingdom        7\n",
       "Name: country, dtype: int64"
      ]
     },
     "execution_count": 8,
     "metadata": {},
     "output_type": "execute_result"
    }
   ],
   "source": [
    "df.loc[(df['rank'].isin([1, 2, 3]))]['country'].value_counts()\n",
    "# the United states has the most gdp every year on recorded\n",
    "# and the rest are in 2nd and 3rd place"
   ]
  },
  {
   "cell_type": "code",
   "execution_count": 9,
   "id": "0ffe0b20",
   "metadata": {},
   "outputs": [
    {
     "data": {
      "text/html": [
       "<div>\n",
       "<style scoped>\n",
       "    .dataframe tbody tr th:only-of-type {\n",
       "        vertical-align: middle;\n",
       "    }\n",
       "\n",
       "    .dataframe tbody tr th {\n",
       "        vertical-align: top;\n",
       "    }\n",
       "\n",
       "    .dataframe thead th {\n",
       "        text-align: right;\n",
       "    }\n",
       "</style>\n",
       "<table border=\"1\" class=\"dataframe\">\n",
       "  <thead>\n",
       "    <tr style=\"text-align: right;\">\n",
       "      <th></th>\n",
       "      <th>year</th>\n",
       "      <th>rank</th>\n",
       "      <th>country</th>\n",
       "      <th>state</th>\n",
       "      <th>gdp</th>\n",
       "      <th>gdp_percent</th>\n",
       "    </tr>\n",
       "  </thead>\n",
       "  <tbody>\n",
       "    <tr>\n",
       "      <th>0</th>\n",
       "      <td>1960</td>\n",
       "      <td>1</td>\n",
       "      <td>the United States</td>\n",
       "      <td>America</td>\n",
       "      <td>543300000000</td>\n",
       "      <td>0.468483</td>\n",
       "    </tr>\n",
       "    <tr>\n",
       "      <th>1</th>\n",
       "      <td>1960</td>\n",
       "      <td>2</td>\n",
       "      <td>United Kingdom</td>\n",
       "      <td>Europe</td>\n",
       "      <td>73233967692</td>\n",
       "      <td>0.063149</td>\n",
       "    </tr>\n",
       "    <tr>\n",
       "      <th>2</th>\n",
       "      <td>1960</td>\n",
       "      <td>3</td>\n",
       "      <td>France</td>\n",
       "      <td>Europe</td>\n",
       "      <td>62225478000</td>\n",
       "      <td>0.053656</td>\n",
       "    </tr>\n",
       "    <tr>\n",
       "      <th>3</th>\n",
       "      <td>1960</td>\n",
       "      <td>4</td>\n",
       "      <td>China</td>\n",
       "      <td>Asia</td>\n",
       "      <td>59716467625</td>\n",
       "      <td>0.051493</td>\n",
       "    </tr>\n",
       "    <tr>\n",
       "      <th>4</th>\n",
       "      <td>1960</td>\n",
       "      <td>5</td>\n",
       "      <td>Japan</td>\n",
       "      <td>Asia</td>\n",
       "      <td>44307342950</td>\n",
       "      <td>0.038206</td>\n",
       "    </tr>\n",
       "    <tr>\n",
       "      <th>...</th>\n",
       "      <td>...</td>\n",
       "      <td>...</td>\n",
       "      <td>...</td>\n",
       "      <td>...</td>\n",
       "      <td>...</td>\n",
       "      <td>...</td>\n",
       "    </tr>\n",
       "    <tr>\n",
       "      <th>9959</th>\n",
       "      <td>2020</td>\n",
       "      <td>1</td>\n",
       "      <td>the United States</td>\n",
       "      <td>America</td>\n",
       "      <td>20936600000000</td>\n",
       "      <td>0.270006</td>\n",
       "    </tr>\n",
       "    <tr>\n",
       "      <th>9960</th>\n",
       "      <td>2020</td>\n",
       "      <td>2</td>\n",
       "      <td>China</td>\n",
       "      <td>Asia</td>\n",
       "      <td>14722730697890</td>\n",
       "      <td>0.189870</td>\n",
       "    </tr>\n",
       "    <tr>\n",
       "      <th>9961</th>\n",
       "      <td>2020</td>\n",
       "      <td>3</td>\n",
       "      <td>Germany</td>\n",
       "      <td>Europe</td>\n",
       "      <td>3806060140124</td>\n",
       "      <td>0.049084</td>\n",
       "    </tr>\n",
       "    <tr>\n",
       "      <th>9962</th>\n",
       "      <td>2020</td>\n",
       "      <td>4</td>\n",
       "      <td>United Kingdom</td>\n",
       "      <td>Europe</td>\n",
       "      <td>2707743777173</td>\n",
       "      <td>0.034920</td>\n",
       "    </tr>\n",
       "    <tr>\n",
       "      <th>9964</th>\n",
       "      <td>2020</td>\n",
       "      <td>6</td>\n",
       "      <td>France</td>\n",
       "      <td>Europe</td>\n",
       "      <td>2603004395901</td>\n",
       "      <td>0.033569</td>\n",
       "    </tr>\n",
       "  </tbody>\n",
       "</table>\n",
       "<p>355 rows × 6 columns</p>\n",
       "</div>"
      ],
      "text/plain": [
       "      year  rank            country    state             gdp  gdp_percent\n",
       "0     1960     1  the United States  America    543300000000     0.468483\n",
       "1     1960     2     United Kingdom   Europe     73233967692     0.063149\n",
       "2     1960     3             France   Europe     62225478000     0.053656\n",
       "3     1960     4              China     Asia     59716467625     0.051493\n",
       "4     1960     5              Japan     Asia     44307342950     0.038206\n",
       "...    ...   ...                ...      ...             ...          ...\n",
       "9959  2020     1  the United States  America  20936600000000     0.270006\n",
       "9960  2020     2              China     Asia  14722730697890     0.189870\n",
       "9961  2020     3            Germany   Europe   3806060140124     0.049084\n",
       "9962  2020     4     United Kingdom   Europe   2707743777173     0.034920\n",
       "9964  2020     6             France   Europe   2603004395901     0.033569\n",
       "\n",
       "[355 rows x 6 columns]"
      ]
     },
     "execution_count": 9,
     "metadata": {},
     "output_type": "execute_result"
    }
   ],
   "source": [
    "condition = df['country'].isin(['the United States', 'Japan', 'Germany', 'China', 'France', 'United Kingdom'])\n",
    "df_top = df.loc[condition]\n",
    "df_top\n",
    "# Create new DataFrame filtered only top 6 countries by GDP in every year"
   ]
  },
  {
   "cell_type": "code",
   "execution_count": 10,
   "id": "55029152",
   "metadata": {},
   "outputs": [],
   "source": [
    "x_US = df_top.loc[df_top['country'] == 'the United States']['year']\n",
    "y_US = df_top.loc[df_top['country'] == 'the United States']['gdp']\n",
    "\n",
    "x_JP = df_top.loc[df_top['country'] == 'Japan']['year']\n",
    "y_JP = df_top.loc[df_top['country'] == 'Japan']['gdp']\n",
    "\n",
    "x_DE = df_top.loc[df_top['country'] == 'Germany']['year']\n",
    "y_DE = df_top.loc[df_top['country'] == 'Germany']['gdp']\n",
    "\n",
    "x_CN = df_top.loc[df_top['country'] == 'China']['year']\n",
    "y_CN = df_top.loc[df_top['country'] == 'China']['gdp']\n",
    "\n",
    "x_FR = df_top.loc[df_top['country'] == 'France']['year']\n",
    "y_FR = df_top.loc[df_top['country'] == 'France']['gdp']\n",
    "\n",
    "x_UK = df_top.loc[df_top['country'] == 'United Kingdom']['year']\n",
    "y_UK = df_top.loc[df_top['country'] == 'United Kingdom']['gdp']\n",
    "\n",
    "# assign variable with Data for plotting"
   ]
  },
  {
   "cell_type": "code",
   "execution_count": 18,
   "id": "da025cea",
   "metadata": {},
   "outputs": [
    {
     "data": {
      "text/plain": [
       "(<Figure size 1296x720 with 6 Axes>,\n",
       " array([[<AxesSubplot:title={'center':'US'}>,\n",
       "         <AxesSubplot:title={'center':'JP'}>,\n",
       "         <AxesSubplot:title={'center':'DE'}>],\n",
       "        [<AxesSubplot:title={'center':'CN'}>,\n",
       "         <AxesSubplot:title={'center':'FR'}>,\n",
       "         <AxesSubplot:title={'center':'UK'}>]], dtype=object))"
      ]
     },
     "execution_count": 18,
     "metadata": {},
     "output_type": "execute_result"
    },
    {
     "data": {
      "image/png": "[encoded data removed]",
      "text/plain": [
       "<Figure size 1296x720 with 6 Axes>"
      ]
     },
     "metadata": {
      "needs_background": "light"
     },
     "output_type": "display_data"
    }
   ],
   "source": [
    "plot_objects = plt.subplots(nrows=2, ncols=3, figsize=(18,10), sharex=True, sharey=True)\n",
    "\n",
    "fig, axs = plot_objects\n",
    "\n",
    "fig.suptitle('GDP Trends of 6 Countries')\n",
    "\n",
    "countries = ['US', 'JP', 'DE', 'CN', 'FR', 'UK']\n",
    "data_plot_x = [x_US, x_JP, x_DE, x_CN, x_FR, x_UK]\n",
    "data_plot_y = [y_US, y_JP, y_DE, y_CN, y_FR, y_UK]\n",
    "color_plot = ['blue', 'midnightblue', 'black', 'salmon', 'crimson', 'green']\n",
    "\n",
    "c = 0 # index for choosing data plot and color\n",
    "for i in range(0,2) :\n",
    "    for j in range(0,3) :\n",
    "        axs[i,j].plot(data_plot_x[c], data_plot_y[c], color=color_plot[c])\n",
    "        axs[i,j].set_title(countries[c])\n",
    "        axs[i,j].grid()\n",
    "        c += 1\n",
    "\n",
    "plot_objects\n",
    "# Plotting"
   ]
  },
  {
   "cell_type": "markdown",
   "id": "4886d7f4",
   "metadata": {},
   "source": [
    "> The next graph is overall GDP trend"
   ]
  },
  {
   "cell_type": "code",
   "execution_count": 12,
   "id": "fd0434d0",
   "metadata": {},
   "outputs": [
    {
     "data": {
      "text/plain": [
       "year\n",
       "1960     1159701305655\n",
       "1961     1207078684029\n",
       "1962     1320423072050\n",
       "1963     1422075393259\n",
       "1964     1557855627592\n",
       "             ...      \n",
       "2016    75291427009098\n",
       "2017    80141019741132\n",
       "2018    85180857477238\n",
       "2019    86257585574996\n",
       "2020    77541097671335\n",
       "Name: gdp, Length: 61, dtype: int64"
      ]
     },
     "execution_count": 12,
     "metadata": {},
     "output_type": "execute_result"
    }
   ],
   "source": [
    "sum_gdp = df.groupby('year')['gdp'].sum()\n",
    "sum_gdp"
   ]
  },
  {
   "cell_type": "code",
   "execution_count": 13,
   "id": "4106c441",
   "metadata": {},
   "outputs": [
    {
     "data": {
      "image/png": "[encoded data removed]",
      "text/plain": [
       "<Figure size 432x288 with 1 Axes>"
      ]
     },
     "metadata": {
      "needs_background": "light"
     },
     "output_type": "display_data"
    }
   ],
   "source": [
    "plt.plot(sum_gdp, color='gold', linewidth= 3)\n",
    "plt.title('Overall GDP Trend')\n",
    "plt.xlabel('Year')\n",
    "plt.ylabel('Sum GDP')\n",
    "plt.grid()\n",
    "plt.show()"
   ]
  },
  {
   "cell_type": "markdown",
   "id": "00a6a14d",
   "metadata": {},
   "source": [
    "> The next graph is pie graph comparing top 10 countries GDP in 2020"
   ]
  },
  {
   "cell_type": "code",
   "execution_count": 14,
   "id": "60d964dd",
   "metadata": {},
   "outputs": [
    {
     "data": {
      "text/html": [
       "<div>\n",
       "<style scoped>\n",
       "    .dataframe tbody tr th:only-of-type {\n",
       "        vertical-align: middle;\n",
       "    }\n",
       "\n",
       "    .dataframe tbody tr th {\n",
       "        vertical-align: top;\n",
       "    }\n",
       "\n",
       "    .dataframe thead th {\n",
       "        text-align: right;\n",
       "    }\n",
       "</style>\n",
       "<table border=\"1\" class=\"dataframe\">\n",
       "  <thead>\n",
       "    <tr style=\"text-align: right;\">\n",
       "      <th></th>\n",
       "      <th>country</th>\n",
       "      <th>state</th>\n",
       "      <th>gdp</th>\n",
       "    </tr>\n",
       "  </thead>\n",
       "  <tbody>\n",
       "    <tr>\n",
       "      <th>9959</th>\n",
       "      <td>the United States</td>\n",
       "      <td>America</td>\n",
       "      <td>20936600000000</td>\n",
       "    </tr>\n",
       "    <tr>\n",
       "      <th>9960</th>\n",
       "      <td>China</td>\n",
       "      <td>Asia</td>\n",
       "      <td>14722730697890</td>\n",
       "    </tr>\n",
       "    <tr>\n",
       "      <th>9961</th>\n",
       "      <td>Germany</td>\n",
       "      <td>Europe</td>\n",
       "      <td>3806060140124</td>\n",
       "    </tr>\n",
       "    <tr>\n",
       "      <th>9962</th>\n",
       "      <td>United Kingdom</td>\n",
       "      <td>Europe</td>\n",
       "      <td>2707743777173</td>\n",
       "    </tr>\n",
       "    <tr>\n",
       "      <th>9963</th>\n",
       "      <td>India</td>\n",
       "      <td>Asia</td>\n",
       "      <td>2622983732006</td>\n",
       "    </tr>\n",
       "    <tr>\n",
       "      <th>...</th>\n",
       "      <td>...</td>\n",
       "      <td>...</td>\n",
       "      <td>...</td>\n",
       "    </tr>\n",
       "    <tr>\n",
       "      <th>10129</th>\n",
       "      <td>Samoa</td>\n",
       "      <td>Oceania</td>\n",
       "      <td>807027244</td>\n",
       "    </tr>\n",
       "    <tr>\n",
       "      <th>10130</th>\n",
       "      <td>Sao Tome and Principe.</td>\n",
       "      <td>Africa</td>\n",
       "      <td>472914469</td>\n",
       "    </tr>\n",
       "    <tr>\n",
       "      <th>10131</th>\n",
       "      <td>Dominica</td>\n",
       "      <td>America</td>\n",
       "      <td>469870370</td>\n",
       "    </tr>\n",
       "    <tr>\n",
       "      <th>10132</th>\n",
       "      <td>Kiribati</td>\n",
       "      <td>Oceania</td>\n",
       "      <td>199573325</td>\n",
       "    </tr>\n",
       "    <tr>\n",
       "      <th>10133</th>\n",
       "      <td>Tuvalu</td>\n",
       "      <td>Oceania</td>\n",
       "      <td>48855550</td>\n",
       "    </tr>\n",
       "  </tbody>\n",
       "</table>\n",
       "<p>175 rows × 3 columns</p>\n",
       "</div>"
      ],
      "text/plain": [
       "                      country    state             gdp\n",
       "9959        the United States  America  20936600000000\n",
       "9960                    China     Asia  14722730697890\n",
       "9961                  Germany   Europe   3806060140124\n",
       "9962           United Kingdom   Europe   2707743777173\n",
       "9963                    India     Asia   2622983732006\n",
       "...                       ...      ...             ...\n",
       "10129                   Samoa  Oceania       807027244\n",
       "10130  Sao Tome and Principe.   Africa       472914469\n",
       "10131                Dominica  America       469870370\n",
       "10132                Kiribati  Oceania       199573325\n",
       "10133                  Tuvalu  Oceania        48855550\n",
       "\n",
       "[175 rows x 3 columns]"
      ]
     },
     "execution_count": 14,
     "metadata": {},
     "output_type": "execute_result"
    }
   ],
   "source": [
    "new_df = df.loc[df['year']==2020][['country', 'state', 'gdp']]\n",
    "new_df\n",
    "# new_df represents only year 2020 recorded\n"
   ]
  },
  {
   "cell_type": "code",
   "execution_count": 15,
   "id": "6b498414",
   "metadata": {},
   "outputs": [
    {
     "data": {
      "text/plain": [
       "<matplotlib.legend.Legend at 0x21b7c542830>"
      ]
     },
     "execution_count": 15,
     "metadata": {},
     "output_type": "execute_result"
    },
    {
     "data": {
      "text/plain": [
       "<Figure size 432x288 with 0 Axes>"
      ]
     },
     "metadata": {},
     "output_type": "display_data"
    },
    {
     "data": {
      "image/png": "[encoded data removed]",
      "text/plain": [
       "<Figure size 576x576 with 1 Axes>"
      ]
     },
     "metadata": {},
     "output_type": "display_data"
    }
   ],
   "source": [
    "new_df.index = new_df['country'] # to give the right legend in pie chart\n",
    "\n",
    "plt.figure()\n",
    "\n",
    "ax = new_df.head(10).plot(y='gdp', kind='pie', figsize=(8,8),\n",
    "                        title='GDP per state')\n",
    "\n",
    "plt.legend(loc='upper left')"
   ]
  },
  {
   "cell_type": "markdown",
   "id": "601d8374",
   "metadata": {},
   "source": [
    "> The last graph is bar chart comparing GDP per different state"
   ]
  },
  {
   "cell_type": "code",
   "execution_count": 16,
   "id": "d795be42",
   "metadata": {},
   "outputs": [],
   "source": [
    "new_df_barplot  = new_df.groupby('state')['gdp'].sum()\n",
    "# sum GDP to per state"
   ]
  },
  {
   "cell_type": "code",
   "execution_count": 17,
   "id": "3b7d84cb",
   "metadata": {},
   "outputs": [
    {
     "data": {
      "text/plain": [
       "Text(0, 0.5, 'GDP by year 2020 [$]')"
      ]
     },
     "execution_count": 17,
     "metadata": {},
     "output_type": "execute_result"
    },
    {
     "data": {
      "image/png": "[encoded data removed]",
      "text/plain": [
       "<Figure size 1008x432 with 1 Axes>"
      ]
     },
     "metadata": {
      "needs_background": "light"
     },
     "output_type": "display_data"
    }
   ],
   "source": [
    "ax = new_df_barplot.plot(x=new_df['state'].unique(), \n",
    "                        y=new_df_barplot, kind='bar', \n",
    "                        color='salmon', alpha=0.7,\n",
    "                        figsize=(14,6),\n",
    "                        title='GDP per state')\n",
    "ax.set_ylim((0,3e13))\n",
    "ax.set_xlabel('state')\n",
    "ax.set_ylabel('GDP by year 2020 [$]')"
   ]
  },
  {
   "cell_type": "markdown",
   "id": "f9ebca67",
   "metadata": {},
   "source": [
    "> ## End"
   ]
  }
 ],
 "metadata": {
  "interpreter": {
   "hash": "4310cc1e52746c7dbd558526b0c3b40f0c5a6b7dbc6064e4165324d53b4eef8f"
  },
  "kernelspec": {
   "display_name": "Python 3 (ipykernel)",
   "language": "python",
   "name": "python3"
  },
  "language_info": {
   "codemirror_mode": {
    "name": "ipython",
    "version": 3
   },
   "file_extension": ".py",
   "mimetype": "text/x-python",
   "name": "python",
   "nbconvert_exporter": "python",
   "pygments_lexer": "ipython3",
   "version": "3.10.1"
  }
 },
 "nbformat": 4,
 "nbformat_minor": 5
}
