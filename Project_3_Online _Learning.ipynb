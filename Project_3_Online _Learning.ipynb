{
 "cells": [
  {
   "cell_type": "markdown",
   "id": "acfd36cc",
   "metadata": {},
   "source": [
    "# Project 3 - Online Learning Platform EDA\n",
    "---\n",
    "##### <u><b>Objective</b> : EDA of courses and popular course on Coursera and Udemy</u>\n",
    "##### Process : Data Cleaning, EDA, and Visualization\n",
    "\n",
    "<b>Mini-project by Patcharanat Pattanaporn (ken)</b><br>\n",
    "\n",
    "Dataset : <br>\n",
    "\n",
    "Coursera Courses - <i>by Sowmya lyer</i>\n",
    "* 'Coursera_catalog.csv'<br>\n",
    "* [Link to Source](https://www.kaggle.com/sowmyaiyer/coursera-courses-and-details)\n",
    "\n",
    "Udemy Courses - <i>by Keliza Toh</i>\n",
    "* 'Udemy_Raw.csv'<br>\n",
    "* [Link to Source](https://www.kaggle.com/kelizatoh/udemy-courses)"
   ]
  },
  {
   "cell_type": "code",
   "execution_count": 1,
   "id": "a7082aaf",
   "metadata": {},
   "outputs": [],
   "source": [
    "import numpy as np\n",
    "import pandas as pd\n",
    "import matplotlib.pyplot as plt\n",
    "\n",
    "pd.options.mode.chained_assignment = None"
   ]
  },
  {
   "cell_type": "code",
   "execution_count": 2,
   "id": "43c368e7",
   "metadata": {},
   "outputs": [],
   "source": [
    "df_Coursera = pd.read_csv('Coursera_catalog.csv')\n",
    "df_Udemy = pd.read_csv('Udemy_Raw.csv')"
   ]
  },
  {
   "cell_type": "markdown",
   "id": "750d6efb",
   "metadata": {},
   "source": [
    "---"
   ]
  },
  {
   "cell_type": "markdown",
   "id": "b517d997",
   "metadata": {},
   "source": [
    "### Data Cleaning Part"
   ]
  },
  {
   "cell_type": "code",
   "execution_count": 3,
   "id": "8a137993",
   "metadata": {},
   "outputs": [
    {
     "name": "stdout",
     "output_type": "stream",
     "text": [
      "<class 'pandas.core.frame.DataFrame'>\n",
      "RangeIndex: 891 entries, 0 to 890\n",
      "Data columns (total 13 columns):\n",
      " #   Column                    Non-Null Count  Dtype \n",
      "---  ------                    --------------  ----- \n",
      " 0   Unnamed: 0                891 non-null    int64 \n",
      " 1   course_title              891 non-null    object\n",
      " 2   course_URL                891 non-null    object\n",
      " 3   course_organization       891 non-null    object\n",
      " 4   course_Certificate_type   891 non-null    object\n",
      " 5   course_rating             891 non-null    object\n",
      " 6   course_difficulty         891 non-null    object\n",
      " 7   course_students_enrolled  891 non-null    object\n",
      " 8   course_icon               891 non-null    object\n",
      " 9   image_name                891 non-null    object\n",
      " 10  course_skills             891 non-null    object\n",
      " 11  course_top_instructor     534 non-null    object\n",
      " 12  sub_course_list           891 non-null    object\n",
      "dtypes: int64(1), object(12)\n",
      "memory usage: 90.6+ KB\n"
     ]
    }
   ],
   "source": [
    "df_Coursera.info()"
   ]
  },
  {
   "cell_type": "code",
   "execution_count": 4,
   "id": "356adc9a",
   "metadata": {},
   "outputs": [
    {
     "data": {
      "text/plain": [
       "course_title                0\n",
       "course_organization         0\n",
       "course_Certificate_type     0\n",
       "course_rating               0\n",
       "course_difficulty           0\n",
       "course_students_enrolled    0\n",
       "course_skills               0\n",
       "dtype: int64"
      ]
     },
     "execution_count": 4,
     "metadata": {},
     "output_type": "execute_result"
    }
   ],
   "source": [
    "df_coursera = df_Coursera[['course_title', 'course_organization', \n",
    "                'course_Certificate_type', 'course_rating', \n",
    "                'course_difficulty', 'course_students_enrolled',\n",
    "                'course_skills']]\n",
    "# select only necessary columns\n",
    "\n",
    "df_coursera.isnull().sum()\n",
    "# check if null value exists"
   ]
  },
  {
   "cell_type": "code",
   "execution_count": 5,
   "id": "89a3628f",
   "metadata": {},
   "outputs": [
    {
     "data": {
      "text/plain": [
       "3"
      ]
     },
     "execution_count": 5,
     "metadata": {},
     "output_type": "execute_result"
    }
   ],
   "source": [
    "df_coursera.loc[df_coursera['course_rating'] == 'None'].shape[0]\n",
    "# 'None' strings exist in 'course_rating' column"
   ]
  },
  {
   "cell_type": "code",
   "execution_count": 6,
   "id": "a9aa17b4",
   "metadata": {},
   "outputs": [
    {
     "data": {
      "text/plain": [
       "dtype('float64')"
      ]
     },
     "execution_count": 6,
     "metadata": {},
     "output_type": "execute_result"
    }
   ],
   "source": [
    "df_coursera['course_rating'] = df_coursera['course_rating'].replace('None', '0')\n",
    "df_coursera['course_rating'] = df_coursera['course_rating'].astype(float)\n",
    "df_coursera['course_rating'].dtypes\n",
    "# change 'None' to 0, then convert string type to float type"
   ]
  },
  {
   "cell_type": "code",
   "execution_count": 7,
   "id": "48f3d0f8",
   "metadata": {},
   "outputs": [
    {
     "data": {
      "text/plain": [
       "9"
      ]
     },
     "execution_count": 7,
     "metadata": {},
     "output_type": "execute_result"
    }
   ],
   "source": [
    "df_coursera.loc[df_coursera['course_students_enrolled'] == 'None'].shape[0]\n",
    "# string 'None' is also exists in column 'course_students_enrolled'"
   ]
  },
  {
   "cell_type": "code",
   "execution_count": 8,
   "id": "efb0fbe9",
   "metadata": {},
   "outputs": [],
   "source": [
    "df_coursera['course_students_enrolled'] = df_coursera['course_students_enrolled'].replace('None', '0')\n",
    "# change 'None' to string '0' (In next step, I will use for loop in string, so convert it to string '0' that next step won't cause an error)"
   ]
  },
  {
   "cell_type": "code",
   "execution_count": 9,
   "id": "f125717b",
   "metadata": {},
   "outputs": [
    {
     "data": {
      "text/plain": [
       "dtype('O')"
      ]
     },
     "execution_count": 9,
     "metadata": {},
     "output_type": "execute_result"
    }
   ],
   "source": [
    "df_coursera['course_students_enrolled'].dtypes\n",
    "# number of student are string(object) type (also include 'k', and 'm')"
   ]
  },
  {
   "cell_type": "code",
   "execution_count": 10,
   "id": "840c6345",
   "metadata": {},
   "outputs": [
    {
     "data": {
      "text/html": [
       "<div>\n",
       "<style scoped>\n",
       "    .dataframe tbody tr th:only-of-type {\n",
       "        vertical-align: middle;\n",
       "    }\n",
       "\n",
       "    .dataframe tbody tr th {\n",
       "        vertical-align: top;\n",
       "    }\n",
       "\n",
       "    .dataframe thead th {\n",
       "        text-align: right;\n",
       "    }\n",
       "</style>\n",
       "<table border=\"1\" class=\"dataframe\">\n",
       "  <thead>\n",
       "    <tr style=\"text-align: right;\">\n",
       "      <th></th>\n",
       "      <th>course_title</th>\n",
       "      <th>course_organization</th>\n",
       "      <th>course_Certificate_type</th>\n",
       "      <th>course_rating</th>\n",
       "      <th>course_difficulty</th>\n",
       "      <th>course_students_enrolled</th>\n",
       "      <th>course_skills</th>\n",
       "    </tr>\n",
       "  </thead>\n",
       "  <tbody>\n",
       "    <tr>\n",
       "      <th>0</th>\n",
       "      <td>Google IT Support</td>\n",
       "      <td>Google</td>\n",
       "      <td>PROFESSIONAL CERTIFICATE</td>\n",
       "      <td>4.8</td>\n",
       "      <td>Beginner</td>\n",
       "      <td>610000.0</td>\n",
       "      <td>['Binary Code', 'Customer Support', 'Linux', '...</td>\n",
       "    </tr>\n",
       "    <tr>\n",
       "      <th>1</th>\n",
       "      <td>IBM Data Science</td>\n",
       "      <td>IBM</td>\n",
       "      <td>PROFESSIONAL CERTIFICATE</td>\n",
       "      <td>4.6</td>\n",
       "      <td>Beginner</td>\n",
       "      <td>640000.0</td>\n",
       "      <td>['Data Science', 'Statistical Analysis', 'Mach...</td>\n",
       "    </tr>\n",
       "    <tr>\n",
       "      <th>2</th>\n",
       "      <td>Introduction to Data Science</td>\n",
       "      <td>IBM</td>\n",
       "      <td>SPECIALIZATION</td>\n",
       "      <td>4.6</td>\n",
       "      <td>Beginner</td>\n",
       "      <td>410000.0</td>\n",
       "      <td>['Data Science', 'Relational Database Manageme...</td>\n",
       "    </tr>\n",
       "    <tr>\n",
       "      <th>3</th>\n",
       "      <td>Python for Everybody</td>\n",
       "      <td>University of Michigan</td>\n",
       "      <td>SPECIALIZATION</td>\n",
       "      <td>4.8</td>\n",
       "      <td>Beginner</td>\n",
       "      <td>2000000.0</td>\n",
       "      <td>['Json', 'Xml', 'Python Programming', 'Databas...</td>\n",
       "    </tr>\n",
       "    <tr>\n",
       "      <th>4</th>\n",
       "      <td>Deep Learning</td>\n",
       "      <td>deeplearning.ai</td>\n",
       "      <td>SPECIALIZATION</td>\n",
       "      <td>4.8</td>\n",
       "      <td>Intermediate</td>\n",
       "      <td>890000.0</td>\n",
       "      <td>['Tensorflow', 'Convolutional Neural Network',...</td>\n",
       "    </tr>\n",
       "    <tr>\n",
       "      <th>...</th>\n",
       "      <td>...</td>\n",
       "      <td>...</td>\n",
       "      <td>...</td>\n",
       "      <td>...</td>\n",
       "      <td>...</td>\n",
       "      <td>...</td>\n",
       "      <td>...</td>\n",
       "    </tr>\n",
       "    <tr>\n",
       "      <th>886</th>\n",
       "      <td>Nanotechnology: A Maker’s Course</td>\n",
       "      <td>Duke University</td>\n",
       "      <td>COURSE</td>\n",
       "      <td>4.8</td>\n",
       "      <td>Mixed</td>\n",
       "      <td>33000.0</td>\n",
       "      <td>[]</td>\n",
       "    </tr>\n",
       "    <tr>\n",
       "      <th>887</th>\n",
       "      <td>Building Cloud Services with the Java Spring F...</td>\n",
       "      <td>Vanderbilt University</td>\n",
       "      <td>COURSE</td>\n",
       "      <td>4.3</td>\n",
       "      <td>Intermediate</td>\n",
       "      <td>16000.0</td>\n",
       "      <td>['Hypertext Transfer Protocol (HTTP)', 'Servle...</td>\n",
       "    </tr>\n",
       "    <tr>\n",
       "      <th>888</th>\n",
       "      <td>Atención Primaria en Salud: El desafío de las ...</td>\n",
       "      <td>Pontificia Universidad Católica de Chile</td>\n",
       "      <td>COURSE</td>\n",
       "      <td>4.8</td>\n",
       "      <td>Intermediate</td>\n",
       "      <td>41000.0</td>\n",
       "      <td>[]</td>\n",
       "    </tr>\n",
       "    <tr>\n",
       "      <th>889</th>\n",
       "      <td>Dairy Production and Management</td>\n",
       "      <td>The Pennsylvania State University</td>\n",
       "      <td>COURSE</td>\n",
       "      <td>4.8</td>\n",
       "      <td>Mixed</td>\n",
       "      <td>29000.0</td>\n",
       "      <td>['Disease Control', 'Animal', 'Nutrition', 'Ge...</td>\n",
       "    </tr>\n",
       "    <tr>\n",
       "      <th>890</th>\n",
       "      <td>Geopolítica y gobernanza global: riesgos y opo...</td>\n",
       "      <td>ESADE Business and Law School</td>\n",
       "      <td>COURSE</td>\n",
       "      <td>4.8</td>\n",
       "      <td>Mixed</td>\n",
       "      <td>39000.0</td>\n",
       "      <td>[]</td>\n",
       "    </tr>\n",
       "  </tbody>\n",
       "</table>\n",
       "<p>891 rows × 7 columns</p>\n",
       "</div>"
      ],
      "text/plain": [
       "                                          course_title  \\\n",
       "0                                    Google IT Support   \n",
       "1                                     IBM Data Science   \n",
       "2                         Introduction to Data Science   \n",
       "3                                 Python for Everybody   \n",
       "4                                        Deep Learning   \n",
       "..                                                 ...   \n",
       "886                   Nanotechnology: A Maker’s Course   \n",
       "887  Building Cloud Services with the Java Spring F...   \n",
       "888  Atención Primaria en Salud: El desafío de las ...   \n",
       "889                    Dairy Production and Management   \n",
       "890  Geopolítica y gobernanza global: riesgos y opo...   \n",
       "\n",
       "                          course_organization   course_Certificate_type  \\\n",
       "0                                      Google  PROFESSIONAL CERTIFICATE   \n",
       "1                                         IBM  PROFESSIONAL CERTIFICATE   \n",
       "2                                         IBM            SPECIALIZATION   \n",
       "3                      University of Michigan            SPECIALIZATION   \n",
       "4                             deeplearning.ai            SPECIALIZATION   \n",
       "..                                        ...                       ...   \n",
       "886                           Duke University                    COURSE   \n",
       "887                     Vanderbilt University                    COURSE   \n",
       "888  Pontificia Universidad Católica de Chile                    COURSE   \n",
       "889         The Pennsylvania State University                    COURSE   \n",
       "890             ESADE Business and Law School                    COURSE   \n",
       "\n",
       "     course_rating course_difficulty course_students_enrolled  \\\n",
       "0              4.8          Beginner                 610000.0   \n",
       "1              4.6          Beginner                 640000.0   \n",
       "2              4.6          Beginner                 410000.0   \n",
       "3              4.8          Beginner                2000000.0   \n",
       "4              4.8      Intermediate                 890000.0   \n",
       "..             ...               ...                      ...   \n",
       "886            4.8             Mixed                  33000.0   \n",
       "887            4.3      Intermediate                  16000.0   \n",
       "888            4.8      Intermediate                  41000.0   \n",
       "889            4.8             Mixed                  29000.0   \n",
       "890            4.8             Mixed                  39000.0   \n",
       "\n",
       "                                         course_skills  \n",
       "0    ['Binary Code', 'Customer Support', 'Linux', '...  \n",
       "1    ['Data Science', 'Statistical Analysis', 'Mach...  \n",
       "2    ['Data Science', 'Relational Database Manageme...  \n",
       "3    ['Json', 'Xml', 'Python Programming', 'Databas...  \n",
       "4    ['Tensorflow', 'Convolutional Neural Network',...  \n",
       "..                                                 ...  \n",
       "886                                                 []  \n",
       "887  ['Hypertext Transfer Protocol (HTTP)', 'Servle...  \n",
       "888                                                 []  \n",
       "889  ['Disease Control', 'Animal', 'Nutrition', 'Ge...  \n",
       "890                                                 []  \n",
       "\n",
       "[891 rows x 7 columns]"
      ]
     },
     "execution_count": 10,
     "metadata": {},
     "output_type": "execute_result"
    }
   ],
   "source": [
    "for i, data in df_coursera.iterrows() :\n",
    "    if 'k' in data['course_students_enrolled'] :\n",
    "        df_coursera.loc[i, 'course_students_enrolled'] = float(data['course_students_enrolled'].replace('k', ''))*1_000\n",
    "    elif 'm' in data['course_students_enrolled'] :\n",
    "        df_coursera.loc[i, 'course_students_enrolled'] = float(data['course_students_enrolled'].replace('m', ''))*1_000_000\n",
    "# replace 'k' with 1_000, and 'm' with 1_000_000\n",
    "\n",
    "df_coursera"
   ]
  },
  {
   "cell_type": "code",
   "execution_count": 11,
   "id": "7cefab96",
   "metadata": {},
   "outputs": [
    {
     "data": {
      "text/html": [
       "<div>\n",
       "<style scoped>\n",
       "    .dataframe tbody tr th:only-of-type {\n",
       "        vertical-align: middle;\n",
       "    }\n",
       "\n",
       "    .dataframe tbody tr th {\n",
       "        vertical-align: top;\n",
       "    }\n",
       "\n",
       "    .dataframe thead th {\n",
       "        text-align: right;\n",
       "    }\n",
       "</style>\n",
       "<table border=\"1\" class=\"dataframe\">\n",
       "  <thead>\n",
       "    <tr style=\"text-align: right;\">\n",
       "      <th></th>\n",
       "      <th>course_title</th>\n",
       "      <th>course_organization</th>\n",
       "      <th>course_Certificate_type</th>\n",
       "      <th>course_rating</th>\n",
       "      <th>course_difficulty</th>\n",
       "      <th>students</th>\n",
       "      <th>course_skills</th>\n",
       "    </tr>\n",
       "  </thead>\n",
       "  <tbody>\n",
       "    <tr>\n",
       "      <th>0</th>\n",
       "      <td>Google IT Support</td>\n",
       "      <td>Google</td>\n",
       "      <td>PROFESSIONAL CERTIFICATE</td>\n",
       "      <td>4.8</td>\n",
       "      <td>Beginner</td>\n",
       "      <td>610000.0</td>\n",
       "      <td>['Binary Code', 'Customer Support', 'Linux', '...</td>\n",
       "    </tr>\n",
       "    <tr>\n",
       "      <th>1</th>\n",
       "      <td>IBM Data Science</td>\n",
       "      <td>IBM</td>\n",
       "      <td>PROFESSIONAL CERTIFICATE</td>\n",
       "      <td>4.6</td>\n",
       "      <td>Beginner</td>\n",
       "      <td>640000.0</td>\n",
       "      <td>['Data Science', 'Statistical Analysis', 'Mach...</td>\n",
       "    </tr>\n",
       "    <tr>\n",
       "      <th>2</th>\n",
       "      <td>Introduction to Data Science</td>\n",
       "      <td>IBM</td>\n",
       "      <td>SPECIALIZATION</td>\n",
       "      <td>4.6</td>\n",
       "      <td>Beginner</td>\n",
       "      <td>410000.0</td>\n",
       "      <td>['Data Science', 'Relational Database Manageme...</td>\n",
       "    </tr>\n",
       "    <tr>\n",
       "      <th>3</th>\n",
       "      <td>Python for Everybody</td>\n",
       "      <td>University of Michigan</td>\n",
       "      <td>SPECIALIZATION</td>\n",
       "      <td>4.8</td>\n",
       "      <td>Beginner</td>\n",
       "      <td>2000000.0</td>\n",
       "      <td>['Json', 'Xml', 'Python Programming', 'Databas...</td>\n",
       "    </tr>\n",
       "    <tr>\n",
       "      <th>4</th>\n",
       "      <td>Deep Learning</td>\n",
       "      <td>deeplearning.ai</td>\n",
       "      <td>SPECIALIZATION</td>\n",
       "      <td>4.8</td>\n",
       "      <td>Intermediate</td>\n",
       "      <td>890000.0</td>\n",
       "      <td>['Tensorflow', 'Convolutional Neural Network',...</td>\n",
       "    </tr>\n",
       "    <tr>\n",
       "      <th>...</th>\n",
       "      <td>...</td>\n",
       "      <td>...</td>\n",
       "      <td>...</td>\n",
       "      <td>...</td>\n",
       "      <td>...</td>\n",
       "      <td>...</td>\n",
       "      <td>...</td>\n",
       "    </tr>\n",
       "    <tr>\n",
       "      <th>886</th>\n",
       "      <td>Nanotechnology: A Maker’s Course</td>\n",
       "      <td>Duke University</td>\n",
       "      <td>COURSE</td>\n",
       "      <td>4.8</td>\n",
       "      <td>Mixed</td>\n",
       "      <td>33000.0</td>\n",
       "      <td>[]</td>\n",
       "    </tr>\n",
       "    <tr>\n",
       "      <th>887</th>\n",
       "      <td>Building Cloud Services with the Java Spring F...</td>\n",
       "      <td>Vanderbilt University</td>\n",
       "      <td>COURSE</td>\n",
       "      <td>4.3</td>\n",
       "      <td>Intermediate</td>\n",
       "      <td>16000.0</td>\n",
       "      <td>['Hypertext Transfer Protocol (HTTP)', 'Servle...</td>\n",
       "    </tr>\n",
       "    <tr>\n",
       "      <th>888</th>\n",
       "      <td>Atención Primaria en Salud: El desafío de las ...</td>\n",
       "      <td>Pontificia Universidad Católica de Chile</td>\n",
       "      <td>COURSE</td>\n",
       "      <td>4.8</td>\n",
       "      <td>Intermediate</td>\n",
       "      <td>41000.0</td>\n",
       "      <td>[]</td>\n",
       "    </tr>\n",
       "    <tr>\n",
       "      <th>889</th>\n",
       "      <td>Dairy Production and Management</td>\n",
       "      <td>The Pennsylvania State University</td>\n",
       "      <td>COURSE</td>\n",
       "      <td>4.8</td>\n",
       "      <td>Mixed</td>\n",
       "      <td>29000.0</td>\n",
       "      <td>['Disease Control', 'Animal', 'Nutrition', 'Ge...</td>\n",
       "    </tr>\n",
       "    <tr>\n",
       "      <th>890</th>\n",
       "      <td>Geopolítica y gobernanza global: riesgos y opo...</td>\n",
       "      <td>ESADE Business and Law School</td>\n",
       "      <td>COURSE</td>\n",
       "      <td>4.8</td>\n",
       "      <td>Mixed</td>\n",
       "      <td>39000.0</td>\n",
       "      <td>[]</td>\n",
       "    </tr>\n",
       "  </tbody>\n",
       "</table>\n",
       "<p>891 rows × 7 columns</p>\n",
       "</div>"
      ],
      "text/plain": [
       "                                          course_title  \\\n",
       "0                                    Google IT Support   \n",
       "1                                     IBM Data Science   \n",
       "2                         Introduction to Data Science   \n",
       "3                                 Python for Everybody   \n",
       "4                                        Deep Learning   \n",
       "..                                                 ...   \n",
       "886                   Nanotechnology: A Maker’s Course   \n",
       "887  Building Cloud Services with the Java Spring F...   \n",
       "888  Atención Primaria en Salud: El desafío de las ...   \n",
       "889                    Dairy Production and Management   \n",
       "890  Geopolítica y gobernanza global: riesgos y opo...   \n",
       "\n",
       "                          course_organization   course_Certificate_type  \\\n",
       "0                                      Google  PROFESSIONAL CERTIFICATE   \n",
       "1                                         IBM  PROFESSIONAL CERTIFICATE   \n",
       "2                                         IBM            SPECIALIZATION   \n",
       "3                      University of Michigan            SPECIALIZATION   \n",
       "4                             deeplearning.ai            SPECIALIZATION   \n",
       "..                                        ...                       ...   \n",
       "886                           Duke University                    COURSE   \n",
       "887                     Vanderbilt University                    COURSE   \n",
       "888  Pontificia Universidad Católica de Chile                    COURSE   \n",
       "889         The Pennsylvania State University                    COURSE   \n",
       "890             ESADE Business and Law School                    COURSE   \n",
       "\n",
       "     course_rating course_difficulty   students  \\\n",
       "0              4.8          Beginner   610000.0   \n",
       "1              4.6          Beginner   640000.0   \n",
       "2              4.6          Beginner   410000.0   \n",
       "3              4.8          Beginner  2000000.0   \n",
       "4              4.8      Intermediate   890000.0   \n",
       "..             ...               ...        ...   \n",
       "886            4.8             Mixed    33000.0   \n",
       "887            4.3      Intermediate    16000.0   \n",
       "888            4.8      Intermediate    41000.0   \n",
       "889            4.8             Mixed    29000.0   \n",
       "890            4.8             Mixed    39000.0   \n",
       "\n",
       "                                         course_skills  \n",
       "0    ['Binary Code', 'Customer Support', 'Linux', '...  \n",
       "1    ['Data Science', 'Statistical Analysis', 'Mach...  \n",
       "2    ['Data Science', 'Relational Database Manageme...  \n",
       "3    ['Json', 'Xml', 'Python Programming', 'Databas...  \n",
       "4    ['Tensorflow', 'Convolutional Neural Network',...  \n",
       "..                                                 ...  \n",
       "886                                                 []  \n",
       "887  ['Hypertext Transfer Protocol (HTTP)', 'Servle...  \n",
       "888                                                 []  \n",
       "889  ['Disease Control', 'Animal', 'Nutrition', 'Ge...  \n",
       "890                                                 []  \n",
       "\n",
       "[891 rows x 7 columns]"
      ]
     },
     "execution_count": 11,
     "metadata": {},
     "output_type": "execute_result"
    }
   ],
   "source": [
    "df_coursera['course_students_enrolled'] = df_coursera['course_students_enrolled'].astype(float)\n",
    "# convert values to float type\n",
    "\n",
    "df_coursera = df_coursera.rename(columns={'course_students_enrolled':'students'})\n",
    "# rename column for easier indexing\n",
    "\n",
    "df_coursera"
   ]
  },
  {
   "cell_type": "code",
   "execution_count": 12,
   "id": "2baeecad",
   "metadata": {},
   "outputs": [
    {
     "data": {
      "text/plain": [
       "str"
      ]
     },
     "execution_count": 12,
     "metadata": {},
     "output_type": "execute_result"
    }
   ],
   "source": [
    "type(df_coursera['course_skills'][0])\n",
    "# elements in column 'course_skills' should be list type as it represent."
   ]
  },
  {
   "cell_type": "code",
   "execution_count": 13,
   "id": "2204738b",
   "metadata": {},
   "outputs": [
    {
     "data": {
      "text/plain": [
       "0      ['Binary Code', 'Customer Support', 'Linux', '...\n",
       "1      ['Data Science', 'Statistical Analysis', 'Mach...\n",
       "2      ['Data Science', 'Relational Database Manageme...\n",
       "3      ['Json', 'Xml', 'Python Programming', 'Databas...\n",
       "4      ['Tensorflow', 'Convolutional Neural Network',...\n",
       "                             ...                        \n",
       "886                                                   []\n",
       "887    ['Hypertext Transfer Protocol (HTTP)', 'Servle...\n",
       "888                                                   []\n",
       "889    ['Disease Control', 'Animal', 'Nutrition', 'Ge...\n",
       "890                                                   []\n",
       "Name: course_skills, Length: 891, dtype: object"
      ]
     },
     "execution_count": 13,
     "metadata": {},
     "output_type": "execute_result"
    }
   ],
   "source": [
    "df_coursera['course_skills'] = pd.Series([sublist[1:-1].split(', ') for sublist in df_coursera.course_skills]) \n",
    "# convert string items in column 'course_skills' to list type\n",
    "# by duplicating element, then substitute it in DataFrame\n",
    "df_coursera['course_skills']"
   ]
  },
  {
   "cell_type": "code",
   "execution_count": 14,
   "id": "7014a24f",
   "metadata": {},
   "outputs": [
    {
     "data": {
      "text/html": [
       "<div>\n",
       "<style scoped>\n",
       "    .dataframe tbody tr th:only-of-type {\n",
       "        vertical-align: middle;\n",
       "    }\n",
       "\n",
       "    .dataframe tbody tr th {\n",
       "        vertical-align: top;\n",
       "    }\n",
       "\n",
       "    .dataframe thead th {\n",
       "        text-align: right;\n",
       "    }\n",
       "</style>\n",
       "<table border=\"1\" class=\"dataframe\">\n",
       "  <thead>\n",
       "    <tr style=\"text-align: right;\">\n",
       "      <th></th>\n",
       "      <th>course_title</th>\n",
       "      <th>course_organization</th>\n",
       "      <th>course_Certificate_type</th>\n",
       "      <th>course_rating</th>\n",
       "      <th>course_difficulty</th>\n",
       "      <th>students</th>\n",
       "      <th>course_skills</th>\n",
       "    </tr>\n",
       "  </thead>\n",
       "  <tbody>\n",
       "    <tr>\n",
       "      <th>0</th>\n",
       "      <td>Google IT Support</td>\n",
       "      <td>Google</td>\n",
       "      <td>PROFESSIONAL CERTIFICATE</td>\n",
       "      <td>4.8</td>\n",
       "      <td>Beginner</td>\n",
       "      <td>610000.0</td>\n",
       "      <td>['Binary Code', 'Customer Support', 'Linux', '...</td>\n",
       "    </tr>\n",
       "    <tr>\n",
       "      <th>1</th>\n",
       "      <td>IBM Data Science</td>\n",
       "      <td>IBM</td>\n",
       "      <td>PROFESSIONAL CERTIFICATE</td>\n",
       "      <td>4.6</td>\n",
       "      <td>Beginner</td>\n",
       "      <td>640000.0</td>\n",
       "      <td>['Data Science', 'Statistical Analysis', 'Mach...</td>\n",
       "    </tr>\n",
       "    <tr>\n",
       "      <th>2</th>\n",
       "      <td>Introduction to Data Science</td>\n",
       "      <td>IBM</td>\n",
       "      <td>SPECIALIZATION</td>\n",
       "      <td>4.6</td>\n",
       "      <td>Beginner</td>\n",
       "      <td>410000.0</td>\n",
       "      <td>['Data Science', 'Relational Database Manageme...</td>\n",
       "    </tr>\n",
       "    <tr>\n",
       "      <th>3</th>\n",
       "      <td>Python for Everybody</td>\n",
       "      <td>University of Michigan</td>\n",
       "      <td>SPECIALIZATION</td>\n",
       "      <td>4.8</td>\n",
       "      <td>Beginner</td>\n",
       "      <td>2000000.0</td>\n",
       "      <td>['Json', 'Xml', 'Python Programming', 'Databas...</td>\n",
       "    </tr>\n",
       "    <tr>\n",
       "      <th>4</th>\n",
       "      <td>Deep Learning</td>\n",
       "      <td>deeplearning.ai</td>\n",
       "      <td>SPECIALIZATION</td>\n",
       "      <td>4.8</td>\n",
       "      <td>Intermediate</td>\n",
       "      <td>890000.0</td>\n",
       "      <td>['Tensorflow', 'Convolutional Neural Network',...</td>\n",
       "    </tr>\n",
       "  </tbody>\n",
       "</table>\n",
       "</div>"
      ],
      "text/plain": [
       "                   course_title     course_organization  \\\n",
       "0             Google IT Support                  Google   \n",
       "1              IBM Data Science                     IBM   \n",
       "2  Introduction to Data Science                     IBM   \n",
       "3          Python for Everybody  University of Michigan   \n",
       "4                 Deep Learning         deeplearning.ai   \n",
       "\n",
       "    course_Certificate_type  course_rating course_difficulty   students  \\\n",
       "0  PROFESSIONAL CERTIFICATE            4.8          Beginner   610000.0   \n",
       "1  PROFESSIONAL CERTIFICATE            4.6          Beginner   640000.0   \n",
       "2            SPECIALIZATION            4.6          Beginner   410000.0   \n",
       "3            SPECIALIZATION            4.8          Beginner  2000000.0   \n",
       "4            SPECIALIZATION            4.8      Intermediate   890000.0   \n",
       "\n",
       "                                       course_skills  \n",
       "0  ['Binary Code', 'Customer Support', 'Linux', '...  \n",
       "1  ['Data Science', 'Statistical Analysis', 'Mach...  \n",
       "2  ['Data Science', 'Relational Database Manageme...  \n",
       "3  ['Json', 'Xml', 'Python Programming', 'Databas...  \n",
       "4  ['Tensorflow', 'Convolutional Neural Network',...  "
      ]
     },
     "execution_count": 14,
     "metadata": {},
     "output_type": "execute_result"
    }
   ],
   "source": [
    "df_coursera.head() # df_coursera is ready to use"
   ]
  },
  {
   "cell_type": "code",
   "execution_count": 15,
   "id": "c211c899",
   "metadata": {},
   "outputs": [
    {
     "name": "stdout",
     "output_type": "stream",
     "text": [
      "<class 'pandas.core.frame.DataFrame'>\n",
      "RangeIndex: 16429 entries, 0 to 16428\n",
      "Data columns (total 21 columns):\n",
      " #   Column                      Non-Null Count  Dtype  \n",
      "---  ------                      --------------  -----  \n",
      " 0   Unnamed: 0                  16429 non-null  int64  \n",
      " 1   ID                          16429 non-null  int64  \n",
      " 2   Title                       16429 non-null  object \n",
      " 3   Overall_Rating              16429 non-null  float64\n",
      " 4   Best_Rating                 16429 non-null  int64  \n",
      " 5   Worst_Rating                16429 non-null  float64\n",
      " 6   No_of_Ratings               16429 non-null  int64  \n",
      " 7   Category                    16429 non-null  object \n",
      " 8   Subcategory                 16429 non-null  object \n",
      " 9   Topic                       15009 non-null  object \n",
      " 10  Instructor                  16429 non-null  object \n",
      " 11  Language                    16429 non-null  object \n",
      " 12  SkillsFuture                16429 non-null  bool   \n",
      " 13  No_of_Practice_Test         16429 non-null  int64  \n",
      " 14  No_of_Articles              16429 non-null  int64  \n",
      " 15  No_of_Coding_Exercises      16429 non-null  int64  \n",
      " 16  Video_Duration              15888 non-null  object \n",
      " 17  No_of_Additional_Resources  16429 non-null  int64  \n",
      " 18  Bestseller                  16429 non-null  object \n",
      " 19  Price                       16429 non-null  float64\n",
      " 20  Discounted_Price            15143 non-null  object \n",
      "dtypes: bool(1), float64(3), int64(8), object(9)\n",
      "memory usage: 2.5+ MB\n"
     ]
    }
   ],
   "source": [
    "df_Udemy.info()"
   ]
  },
  {
   "cell_type": "code",
   "execution_count": 16,
   "id": "0c4ed6f9",
   "metadata": {},
   "outputs": [
    {
     "data": {
      "text/plain": [
       "Title                  0\n",
       "Overall_Rating         0\n",
       "No_of_Ratings          0\n",
       "Category               0\n",
       "Subcategory            0\n",
       "Topic               1420\n",
       "Bestseller             0\n",
       "Price                  0\n",
       "Discounted_Price    1286\n",
       "dtype: int64"
      ]
     },
     "execution_count": 16,
     "metadata": {},
     "output_type": "execute_result"
    }
   ],
   "source": [
    "df_udemy = df_Udemy[['Title', 'Overall_Rating', 'No_of_Ratings', 'Category', 'Subcategory', \n",
    "                        'Topic', 'Bestseller', 'Price', 'Discounted_Price']]\n",
    "# select on;y necessary columns\n",
    "df_udemy.isnull().sum()\n",
    "# check if new DataFrame has null value"
   ]
  },
  {
   "cell_type": "code",
   "execution_count": 17,
   "id": "756cc5cd",
   "metadata": {},
   "outputs": [
    {
     "data": {
      "text/html": [
       "<div>\n",
       "<style scoped>\n",
       "    .dataframe tbody tr th:only-of-type {\n",
       "        vertical-align: middle;\n",
       "    }\n",
       "\n",
       "    .dataframe tbody tr th {\n",
       "        vertical-align: top;\n",
       "    }\n",
       "\n",
       "    .dataframe thead th {\n",
       "        text-align: right;\n",
       "    }\n",
       "</style>\n",
       "<table border=\"1\" class=\"dataframe\">\n",
       "  <thead>\n",
       "    <tr style=\"text-align: right;\">\n",
       "      <th></th>\n",
       "      <th>Title</th>\n",
       "      <th>Overall_Rating</th>\n",
       "      <th>No_of_Ratings</th>\n",
       "      <th>Category</th>\n",
       "      <th>Subcategory</th>\n",
       "      <th>Topic</th>\n",
       "      <th>Bestseller</th>\n",
       "      <th>Price</th>\n",
       "      <th>Discounted_Price</th>\n",
       "    </tr>\n",
       "  </thead>\n",
       "  <tbody>\n",
       "    <tr>\n",
       "      <th>0</th>\n",
       "      <td>Complete Hypnotherapy &amp; Hypnosis Certification...</td>\n",
       "      <td>4.7</td>\n",
       "      <td>3524</td>\n",
       "      <td>Lifestyle</td>\n",
       "      <td>Esoteric Practices</td>\n",
       "      <td>Hypnotherapy</td>\n",
       "      <td>Yes</td>\n",
       "      <td>104.98</td>\n",
       "      <td>{'amount': 26.0, 'currency': 'SGD', 'price_str...</td>\n",
       "    </tr>\n",
       "    <tr>\n",
       "      <th>1</th>\n",
       "      <td>Pinterest Marketing for Wedding Professionals ...</td>\n",
       "      <td>5.0</td>\n",
       "      <td>1</td>\n",
       "      <td>Marketing</td>\n",
       "      <td>Social Media Marketing</td>\n",
       "      <td>Pinterest Marketing</td>\n",
       "      <td>No</td>\n",
       "      <td>29.98</td>\n",
       "      <td>{'amount': 22.0, 'currency': 'SGD', 'price_str...</td>\n",
       "    </tr>\n",
       "    <tr>\n",
       "      <th>2</th>\n",
       "      <td>Master the Telephone Sales- Cold calling Secrets</td>\n",
       "      <td>4.5</td>\n",
       "      <td>3</td>\n",
       "      <td>Marketing</td>\n",
       "      <td>Product Marketing</td>\n",
       "      <td>Marketing Strategy</td>\n",
       "      <td>No</td>\n",
       "      <td>29.98</td>\n",
       "      <td>{'amount': 22.0, 'currency': 'SGD', 'price_str...</td>\n",
       "    </tr>\n",
       "    <tr>\n",
       "      <th>3</th>\n",
       "      <td>5 Practical Management concepts you MUST know</td>\n",
       "      <td>5.0</td>\n",
       "      <td>2</td>\n",
       "      <td>Personal Development</td>\n",
       "      <td>Leadership</td>\n",
       "      <td>Management Skills</td>\n",
       "      <td>No</td>\n",
       "      <td>49.98</td>\n",
       "      <td>{'amount': 22.0, 'currency': 'SGD', 'price_str...</td>\n",
       "    </tr>\n",
       "    <tr>\n",
       "      <th>4</th>\n",
       "      <td>Fermented Foods Mastery</td>\n",
       "      <td>4.5</td>\n",
       "      <td>187</td>\n",
       "      <td>Health &amp; Fitness</td>\n",
       "      <td>Nutrition</td>\n",
       "      <td>Fermented Foods</td>\n",
       "      <td>No</td>\n",
       "      <td>68.98</td>\n",
       "      <td>{'amount': 24.0, 'currency': 'SGD', 'price_str...</td>\n",
       "    </tr>\n",
       "  </tbody>\n",
       "</table>\n",
       "</div>"
      ],
      "text/plain": [
       "                                               Title  Overall_Rating  \\\n",
       "0  Complete Hypnotherapy & Hypnosis Certification...             4.7   \n",
       "1  Pinterest Marketing for Wedding Professionals ...             5.0   \n",
       "2   Master the Telephone Sales- Cold calling Secrets             4.5   \n",
       "3      5 Practical Management concepts you MUST know             5.0   \n",
       "4                            Fermented Foods Mastery             4.5   \n",
       "\n",
       "   No_of_Ratings              Category             Subcategory  \\\n",
       "0           3524             Lifestyle      Esoteric Practices   \n",
       "1              1             Marketing  Social Media Marketing   \n",
       "2              3             Marketing       Product Marketing   \n",
       "3              2  Personal Development              Leadership   \n",
       "4            187      Health & Fitness               Nutrition   \n",
       "\n",
       "                 Topic Bestseller   Price  \\\n",
       "0         Hypnotherapy        Yes  104.98   \n",
       "1  Pinterest Marketing         No   29.98   \n",
       "2   Marketing Strategy         No   29.98   \n",
       "3    Management Skills         No   49.98   \n",
       "4      Fermented Foods         No   68.98   \n",
       "\n",
       "                                    Discounted_Price  \n",
       "0  {'amount': 26.0, 'currency': 'SGD', 'price_str...  \n",
       "1  {'amount': 22.0, 'currency': 'SGD', 'price_str...  \n",
       "2  {'amount': 22.0, 'currency': 'SGD', 'price_str...  \n",
       "3  {'amount': 22.0, 'currency': 'SGD', 'price_str...  \n",
       "4  {'amount': 24.0, 'currency': 'SGD', 'price_str...  "
      ]
     },
     "execution_count": 17,
     "metadata": {},
     "output_type": "execute_result"
    }
   ],
   "source": [
    "df_udemy.head()"
   ]
  },
  {
   "cell_type": "code",
   "execution_count": 18,
   "id": "a4dced2b",
   "metadata": {},
   "outputs": [
    {
     "data": {
      "text/html": [
       "<div>\n",
       "<style scoped>\n",
       "    .dataframe tbody tr th:only-of-type {\n",
       "        vertical-align: middle;\n",
       "    }\n",
       "\n",
       "    .dataframe tbody tr th {\n",
       "        vertical-align: top;\n",
       "    }\n",
       "\n",
       "    .dataframe thead th {\n",
       "        text-align: right;\n",
       "    }\n",
       "</style>\n",
       "<table border=\"1\" class=\"dataframe\">\n",
       "  <thead>\n",
       "    <tr style=\"text-align: right;\">\n",
       "      <th></th>\n",
       "      <th>Title</th>\n",
       "      <th>Overall_Rating</th>\n",
       "      <th>No_of_Ratings</th>\n",
       "      <th>Category</th>\n",
       "      <th>Subcategory</th>\n",
       "      <th>Topic</th>\n",
       "      <th>Bestseller</th>\n",
       "      <th>Price</th>\n",
       "      <th>discount</th>\n",
       "    </tr>\n",
       "  </thead>\n",
       "  <tbody>\n",
       "    <tr>\n",
       "      <th>0</th>\n",
       "      <td>Complete Hypnotherapy &amp; Hypnosis Certification...</td>\n",
       "      <td>4.7</td>\n",
       "      <td>3524</td>\n",
       "      <td>Lifestyle</td>\n",
       "      <td>Esoteric Practices</td>\n",
       "      <td>Hypnotherapy</td>\n",
       "      <td>Yes</td>\n",
       "      <td>104.98</td>\n",
       "      <td>26.0</td>\n",
       "    </tr>\n",
       "    <tr>\n",
       "      <th>1</th>\n",
       "      <td>Pinterest Marketing for Wedding Professionals ...</td>\n",
       "      <td>5.0</td>\n",
       "      <td>1</td>\n",
       "      <td>Marketing</td>\n",
       "      <td>Social Media Marketing</td>\n",
       "      <td>Pinterest Marketing</td>\n",
       "      <td>No</td>\n",
       "      <td>29.98</td>\n",
       "      <td>22.0</td>\n",
       "    </tr>\n",
       "    <tr>\n",
       "      <th>2</th>\n",
       "      <td>Master the Telephone Sales- Cold calling Secrets</td>\n",
       "      <td>4.5</td>\n",
       "      <td>3</td>\n",
       "      <td>Marketing</td>\n",
       "      <td>Product Marketing</td>\n",
       "      <td>Marketing Strategy</td>\n",
       "      <td>No</td>\n",
       "      <td>29.98</td>\n",
       "      <td>22.0</td>\n",
       "    </tr>\n",
       "    <tr>\n",
       "      <th>3</th>\n",
       "      <td>5 Practical Management concepts you MUST know</td>\n",
       "      <td>5.0</td>\n",
       "      <td>2</td>\n",
       "      <td>Personal Development</td>\n",
       "      <td>Leadership</td>\n",
       "      <td>Management Skills</td>\n",
       "      <td>No</td>\n",
       "      <td>49.98</td>\n",
       "      <td>22.0</td>\n",
       "    </tr>\n",
       "    <tr>\n",
       "      <th>4</th>\n",
       "      <td>Fermented Foods Mastery</td>\n",
       "      <td>4.5</td>\n",
       "      <td>187</td>\n",
       "      <td>Health &amp; Fitness</td>\n",
       "      <td>Nutrition</td>\n",
       "      <td>Fermented Foods</td>\n",
       "      <td>No</td>\n",
       "      <td>68.98</td>\n",
       "      <td>24.0</td>\n",
       "    </tr>\n",
       "  </tbody>\n",
       "</table>\n",
       "</div>"
      ],
      "text/plain": [
       "                                               Title  Overall_Rating  \\\n",
       "0  Complete Hypnotherapy & Hypnosis Certification...             4.7   \n",
       "1  Pinterest Marketing for Wedding Professionals ...             5.0   \n",
       "2   Master the Telephone Sales- Cold calling Secrets             4.5   \n",
       "3      5 Practical Management concepts you MUST know             5.0   \n",
       "4                            Fermented Foods Mastery             4.5   \n",
       "\n",
       "   No_of_Ratings              Category             Subcategory  \\\n",
       "0           3524             Lifestyle      Esoteric Practices   \n",
       "1              1             Marketing  Social Media Marketing   \n",
       "2              3             Marketing       Product Marketing   \n",
       "3              2  Personal Development              Leadership   \n",
       "4            187      Health & Fitness               Nutrition   \n",
       "\n",
       "                 Topic Bestseller   Price  discount  \n",
       "0         Hypnotherapy        Yes  104.98      26.0  \n",
       "1  Pinterest Marketing         No   29.98      22.0  \n",
       "2   Marketing Strategy         No   29.98      22.0  \n",
       "3    Management Skills         No   49.98      22.0  \n",
       "4      Fermented Foods         No   68.98      24.0  "
      ]
     },
     "execution_count": 18,
     "metadata": {},
     "output_type": "execute_result"
    }
   ],
   "source": [
    "df_udemy['discount'] = df_udemy.Discounted_Price.str.slice(start=11, stop=15)\n",
    "df_udemy.drop(['Discounted_Price'], axis=1, inplace=True)\n",
    "df_udemy['discount'] = df_udemy['discount'].astype(float)\n",
    "# clean Discount_Price column, in case I have to use it.\n",
    "df_udemy.head()"
   ]
  },
  {
   "cell_type": "code",
   "execution_count": 19,
   "id": "e5de44b0",
   "metadata": {},
   "outputs": [
    {
     "data": {
      "text/plain": [
       "0"
      ]
     },
     "execution_count": 19,
     "metadata": {},
     "output_type": "execute_result"
    }
   ],
   "source": [
    "condition = df_udemy.isnull().any(axis=1)\n",
    "df_udemy['discount'] = df_udemy['discount'].fillna(0)\n",
    "df_udemy['discount'].isnull().sum()\n",
    "# fill na values with 0\n",
    "# df_udemy is ready to use"
   ]
  },
  {
   "cell_type": "markdown",
   "id": "df24fb5d",
   "metadata": {},
   "source": [
    "---"
   ]
  },
  {
   "cell_type": "markdown",
   "id": "9d9904d3",
   "metadata": {},
   "source": [
    "### EDA and Visualization Part"
   ]
  },
  {
   "cell_type": "code",
   "execution_count": 20,
   "id": "3513798d",
   "metadata": {},
   "outputs": [
    {
     "data": {
      "text/html": [
       "<div>\n",
       "<style scoped>\n",
       "    .dataframe tbody tr th:only-of-type {\n",
       "        vertical-align: middle;\n",
       "    }\n",
       "\n",
       "    .dataframe tbody tr th {\n",
       "        vertical-align: top;\n",
       "    }\n",
       "\n",
       "    .dataframe thead th {\n",
       "        text-align: right;\n",
       "    }\n",
       "</style>\n",
       "<table border=\"1\" class=\"dataframe\">\n",
       "  <thead>\n",
       "    <tr style=\"text-align: right;\">\n",
       "      <th></th>\n",
       "      <th>course_title</th>\n",
       "      <th>course_organization</th>\n",
       "      <th>course_Certificate_type</th>\n",
       "      <th>course_rating</th>\n",
       "      <th>course_difficulty</th>\n",
       "      <th>students</th>\n",
       "      <th>course_skills</th>\n",
       "    </tr>\n",
       "  </thead>\n",
       "  <tbody>\n",
       "    <tr>\n",
       "      <th>0</th>\n",
       "      <td>Google IT Support</td>\n",
       "      <td>Google</td>\n",
       "      <td>PROFESSIONAL CERTIFICATE</td>\n",
       "      <td>4.8</td>\n",
       "      <td>Beginner</td>\n",
       "      <td>610000.0</td>\n",
       "      <td>['Binary Code', 'Customer Support', 'Linux', '...</td>\n",
       "    </tr>\n",
       "    <tr>\n",
       "      <th>1</th>\n",
       "      <td>IBM Data Science</td>\n",
       "      <td>IBM</td>\n",
       "      <td>PROFESSIONAL CERTIFICATE</td>\n",
       "      <td>4.6</td>\n",
       "      <td>Beginner</td>\n",
       "      <td>640000.0</td>\n",
       "      <td>['Data Science', 'Statistical Analysis', 'Mach...</td>\n",
       "    </tr>\n",
       "    <tr>\n",
       "      <th>2</th>\n",
       "      <td>Introduction to Data Science</td>\n",
       "      <td>IBM</td>\n",
       "      <td>SPECIALIZATION</td>\n",
       "      <td>4.6</td>\n",
       "      <td>Beginner</td>\n",
       "      <td>410000.0</td>\n",
       "      <td>['Data Science', 'Relational Database Manageme...</td>\n",
       "    </tr>\n",
       "    <tr>\n",
       "      <th>3</th>\n",
       "      <td>Python for Everybody</td>\n",
       "      <td>University of Michigan</td>\n",
       "      <td>SPECIALIZATION</td>\n",
       "      <td>4.8</td>\n",
       "      <td>Beginner</td>\n",
       "      <td>2000000.0</td>\n",
       "      <td>['Json', 'Xml', 'Python Programming', 'Databas...</td>\n",
       "    </tr>\n",
       "    <tr>\n",
       "      <th>4</th>\n",
       "      <td>Deep Learning</td>\n",
       "      <td>deeplearning.ai</td>\n",
       "      <td>SPECIALIZATION</td>\n",
       "      <td>4.8</td>\n",
       "      <td>Intermediate</td>\n",
       "      <td>890000.0</td>\n",
       "      <td>['Tensorflow', 'Convolutional Neural Network',...</td>\n",
       "    </tr>\n",
       "  </tbody>\n",
       "</table>\n",
       "</div>"
      ],
      "text/plain": [
       "                   course_title     course_organization  \\\n",
       "0             Google IT Support                  Google   \n",
       "1              IBM Data Science                     IBM   \n",
       "2  Introduction to Data Science                     IBM   \n",
       "3          Python for Everybody  University of Michigan   \n",
       "4                 Deep Learning         deeplearning.ai   \n",
       "\n",
       "    course_Certificate_type  course_rating course_difficulty   students  \\\n",
       "0  PROFESSIONAL CERTIFICATE            4.8          Beginner   610000.0   \n",
       "1  PROFESSIONAL CERTIFICATE            4.6          Beginner   640000.0   \n",
       "2            SPECIALIZATION            4.6          Beginner   410000.0   \n",
       "3            SPECIALIZATION            4.8          Beginner  2000000.0   \n",
       "4            SPECIALIZATION            4.8      Intermediate   890000.0   \n",
       "\n",
       "                                       course_skills  \n",
       "0  ['Binary Code', 'Customer Support', 'Linux', '...  \n",
       "1  ['Data Science', 'Statistical Analysis', 'Mach...  \n",
       "2  ['Data Science', 'Relational Database Manageme...  \n",
       "3  ['Json', 'Xml', 'Python Programming', 'Databas...  \n",
       "4  ['Tensorflow', 'Convolutional Neural Network',...  "
      ]
     },
     "execution_count": 20,
     "metadata": {},
     "output_type": "execute_result"
    }
   ],
   "source": [
    "df_coursera.head()"
   ]
  },
  {
   "cell_type": "code",
   "execution_count": 21,
   "id": "48c26a92",
   "metadata": {},
   "outputs": [],
   "source": [
    "from collections import Counter\n",
    "from itertools import chain\n",
    "\n",
    "c = Counter(chain(*df_coursera.course_skills)) \n",
    "# thanks to jezrael (stackoverflow: https://stackoverflow.com/questions/48707117/count-of-elements-in-lists-within-pandas-data-frame)\n",
    "x = pd.Series(c).sort_index().rename_axis('skill').reset_index(name='freq.').sort_values(by='freq.', ascending=False).head(20)\n",
    "# try to values_counts() for each elements in lists in DataFrame"
   ]
  },
  {
   "cell_type": "markdown",
   "id": "2caab9cc",
   "metadata": {},
   "source": [
    "The first part of Coursera DataFrame, I will show information from 'All courses' on coursera."
   ]
  },
  {
   "cell_type": "code",
   "execution_count": 22,
   "id": "dcd5a930",
   "metadata": {},
   "outputs": [
    {
     "data": {
      "text/plain": [
       "Text(0.5, 1.0, 'Top 20 skill course Coursera offered')"
      ]
     },
     "execution_count": 22,
     "metadata": {},
     "output_type": "execute_result"
    },
    {
     "data": {
      "image/png": "[encoded data removed]",
      "text/plain": [
       "<Figure size 720x576 with 1 Axes>"
      ]
     },
     "metadata": {
      "needs_background": "light"
     },
     "output_type": "display_data"
    }
   ],
   "source": [
    "x[1:].sort_values(by='freq.').plot(kind='barh', x='skill', y='freq.', color='darkorange', figsize=(10,8))\n",
    "plt.title('Top 20 skill course Coursera offered')\n",
    "# exclude undefined 'NaN' skill by slicing"
   ]
  },
  {
   "cell_type": "markdown",
   "id": "a1d0f9eb",
   "metadata": {},
   "source": [
    "As you can see in the chart, Coursera mostly offered skills like, Programming, <br>\n",
    "Business skill, and some General skill (Microsoft Excel, Statistics, Leadershp)."
   ]
  },
  {
   "cell_type": "code",
   "execution_count": 23,
   "id": "d1794545",
   "metadata": {},
   "outputs": [
    {
     "data": {
      "text/plain": [
       "Text(0.5, 1.0, 'Course difficulty on Coursera')"
      ]
     },
     "execution_count": 23,
     "metadata": {},
     "output_type": "execute_result"
    },
    {
     "data": {
      "image/png": "[encoded data removed]",
      "text/plain": [
       "<Figure size 1008x432 with 1 Axes>"
      ]
     },
     "metadata": {},
     "output_type": "display_data"
    }
   ],
   "source": [
    "df_coursera['course_difficulty'].value_counts().plot(kind='pie', autopct='%1.0f%%', figsize=(14,6))\n",
    "plt.title('Course difficulty on Coursera')"
   ]
  },
  {
   "cell_type": "markdown",
   "id": "b091bdc0",
   "metadata": {},
   "source": [
    "Mostly, Beginner courses, barely Advanced courses."
   ]
  },
  {
   "cell_type": "code",
   "execution_count": 43,
   "id": "947eb385",
   "metadata": {},
   "outputs": [
    {
     "data": {
      "text/plain": [
       "Text(0.5, 1.0, 'Course certificate types on Coursera')"
      ]
     },
     "execution_count": 43,
     "metadata": {},
     "output_type": "execute_result"
    },
    {
     "data": {
      "image/png": "[encoded data removed]",
      "text/plain": [
       "<Figure size 1008x432 with 1 Axes>"
      ]
     },
     "metadata": {},
     "output_type": "display_data"
    }
   ],
   "source": [
    "df_coursera['course_Certificate_type'].value_counts().plot(kind='pie', labels=None, legend=True,autopct='%1.2f%%' , figsize=(14,6))\n",
    "plt.title('Course certificate types on Coursera')"
   ]
  },
  {
   "cell_type": "markdown",
   "id": "13eb9f2c",
   "metadata": {},
   "source": [
    "Coursera mostly offered standalone courses and (Specialization) packs of courses.<br>\n",
    "Only a few are 'Professional Certificate' which give students a certificate after finish the courses"
   ]
  },
  {
   "cell_type": "code",
   "execution_count": 40,
   "id": "a7856de2",
   "metadata": {},
   "outputs": [
    {
     "data": {
      "text/html": [
       "<div>\n",
       "<style scoped>\n",
       "    .dataframe tbody tr th:only-of-type {\n",
       "        vertical-align: middle;\n",
       "    }\n",
       "\n",
       "    .dataframe tbody tr th {\n",
       "        vertical-align: top;\n",
       "    }\n",
       "\n",
       "    .dataframe thead th {\n",
       "        text-align: right;\n",
       "    }\n",
       "</style>\n",
       "<table border=\"1\" class=\"dataframe\">\n",
       "  <thead>\n",
       "    <tr style=\"text-align: right;\">\n",
       "      <th></th>\n",
       "      <th>course_title</th>\n",
       "      <th>course_organization</th>\n",
       "      <th>course_Certificate_type</th>\n",
       "      <th>course_rating</th>\n",
       "      <th>course_difficulty</th>\n",
       "      <th>students</th>\n",
       "      <th>course_skills</th>\n",
       "    </tr>\n",
       "  </thead>\n",
       "  <tbody>\n",
       "    <tr>\n",
       "      <th>6</th>\n",
       "      <td>Machine Learning</td>\n",
       "      <td>Stanford University</td>\n",
       "      <td>COURSE</td>\n",
       "      <td>4.9</td>\n",
       "      <td>Mixed</td>\n",
       "      <td>3600000.0</td>\n",
       "      <td>['Logistic Regression', 'Artificial Neural Net...</td>\n",
       "    </tr>\n",
       "    <tr>\n",
       "      <th>12</th>\n",
       "      <td>The Science of Well-Being</td>\n",
       "      <td>Yale University</td>\n",
       "      <td>COURSE</td>\n",
       "      <td>4.9</td>\n",
       "      <td>Mixed</td>\n",
       "      <td>3000000.0</td>\n",
       "      <td>['Gratitude', 'Happiness', 'Meditation', 'Savo...</td>\n",
       "    </tr>\n",
       "    <tr>\n",
       "      <th>117</th>\n",
       "      <td>Learning How to Learn: Powerful mental tools t...</td>\n",
       "      <td>University of California San Diego</td>\n",
       "      <td>COURSE</td>\n",
       "      <td>4.8</td>\n",
       "      <td>Mixed</td>\n",
       "      <td>2500000.0</td>\n",
       "      <td>['Test Preparation', 'Learning To Learn', 'Pom...</td>\n",
       "    </tr>\n",
       "    <tr>\n",
       "      <th>3</th>\n",
       "      <td>Python for Everybody</td>\n",
       "      <td>University of Michigan</td>\n",
       "      <td>SPECIALIZATION</td>\n",
       "      <td>4.8</td>\n",
       "      <td>Beginner</td>\n",
       "      <td>2000000.0</td>\n",
       "      <td>['Json', 'Xml', 'Python Programming', 'Databas...</td>\n",
       "    </tr>\n",
       "    <tr>\n",
       "      <th>51</th>\n",
       "      <td>Programming for Everybody (Getting Started wit...</td>\n",
       "      <td>University of Michigan</td>\n",
       "      <td>COURSE</td>\n",
       "      <td>4.8</td>\n",
       "      <td>Mixed</td>\n",
       "      <td>1800000.0</td>\n",
       "      <td>['Python Syntax And Semantics', 'Basic Program...</td>\n",
       "    </tr>\n",
       "  </tbody>\n",
       "</table>\n",
       "</div>"
      ],
      "text/plain": [
       "                                          course_title  \\\n",
       "6                                     Machine Learning   \n",
       "12                           The Science of Well-Being   \n",
       "117  Learning How to Learn: Powerful mental tools t...   \n",
       "3                                 Python for Everybody   \n",
       "51   Programming for Everybody (Getting Started wit...   \n",
       "\n",
       "                    course_organization course_Certificate_type  \\\n",
       "6                   Stanford University                  COURSE   \n",
       "12                      Yale University                  COURSE   \n",
       "117  University of California San Diego                  COURSE   \n",
       "3                University of Michigan          SPECIALIZATION   \n",
       "51               University of Michigan                  COURSE   \n",
       "\n",
       "     course_rating course_difficulty   students  \\\n",
       "6              4.9             Mixed  3600000.0   \n",
       "12             4.9             Mixed  3000000.0   \n",
       "117            4.8             Mixed  2500000.0   \n",
       "3              4.8          Beginner  2000000.0   \n",
       "51             4.8             Mixed  1800000.0   \n",
       "\n",
       "                                         course_skills  \n",
       "6    ['Logistic Regression', 'Artificial Neural Net...  \n",
       "12   ['Gratitude', 'Happiness', 'Meditation', 'Savo...  \n",
       "117  ['Test Preparation', 'Learning To Learn', 'Pom...  \n",
       "3    ['Json', 'Xml', 'Python Programming', 'Databas...  \n",
       "51   ['Python Syntax And Semantics', 'Basic Program...  "
      ]
     },
     "execution_count": 40,
     "metadata": {},
     "output_type": "execute_result"
    }
   ],
   "source": [
    "df_coursera.loc[df_coursera['course_rating'] >= 4.8].sort_values(by='students', ascending=False).head()"
   ]
  },
  {
   "cell_type": "markdown",
   "id": "50e6e2f8",
   "metadata": {},
   "source": [
    "Preview of good rating courses, sorted by number of student enrolled in courses."
   ]
  },
  {
   "cell_type": "code",
   "execution_count": 41,
   "id": "69946868",
   "metadata": {},
   "outputs": [
    {
     "data": {
      "text/html": [
       "<div>\n",
       "<style scoped>\n",
       "    .dataframe tbody tr th:only-of-type {\n",
       "        vertical-align: middle;\n",
       "    }\n",
       "\n",
       "    .dataframe tbody tr th {\n",
       "        vertical-align: top;\n",
       "    }\n",
       "\n",
       "    .dataframe thead th {\n",
       "        text-align: right;\n",
       "    }\n",
       "</style>\n",
       "<table border=\"1\" class=\"dataframe\">\n",
       "  <thead>\n",
       "    <tr style=\"text-align: right;\">\n",
       "      <th></th>\n",
       "      <th>course_title</th>\n",
       "      <th>course_organization</th>\n",
       "      <th>course_Certificate_type</th>\n",
       "      <th>course_rating</th>\n",
       "      <th>course_difficulty</th>\n",
       "      <th>students</th>\n",
       "      <th>course_skills</th>\n",
       "    </tr>\n",
       "  </thead>\n",
       "  <tbody>\n",
       "    <tr>\n",
       "      <th>6</th>\n",
       "      <td>Machine Learning</td>\n",
       "      <td>Stanford University</td>\n",
       "      <td>COURSE</td>\n",
       "      <td>4.9</td>\n",
       "      <td>Mixed</td>\n",
       "      <td>3600000.0</td>\n",
       "      <td>['Logistic Regression', 'Artificial Neural Net...</td>\n",
       "    </tr>\n",
       "    <tr>\n",
       "      <th>12</th>\n",
       "      <td>The Science of Well-Being</td>\n",
       "      <td>Yale University</td>\n",
       "      <td>COURSE</td>\n",
       "      <td>4.9</td>\n",
       "      <td>Mixed</td>\n",
       "      <td>3000000.0</td>\n",
       "      <td>['Gratitude', 'Happiness', 'Meditation', 'Savo...</td>\n",
       "    </tr>\n",
       "    <tr>\n",
       "      <th>117</th>\n",
       "      <td>Learning How to Learn: Powerful mental tools t...</td>\n",
       "      <td>University of California San Diego</td>\n",
       "      <td>COURSE</td>\n",
       "      <td>4.8</td>\n",
       "      <td>Mixed</td>\n",
       "      <td>2500000.0</td>\n",
       "      <td>['Test Preparation', 'Learning To Learn', 'Pom...</td>\n",
       "    </tr>\n",
       "    <tr>\n",
       "      <th>3</th>\n",
       "      <td>Python for Everybody</td>\n",
       "      <td>University of Michigan</td>\n",
       "      <td>SPECIALIZATION</td>\n",
       "      <td>4.8</td>\n",
       "      <td>Beginner</td>\n",
       "      <td>2000000.0</td>\n",
       "      <td>['Json', 'Xml', 'Python Programming', 'Databas...</td>\n",
       "    </tr>\n",
       "    <tr>\n",
       "      <th>51</th>\n",
       "      <td>Programming for Everybody (Getting Started wit...</td>\n",
       "      <td>University of Michigan</td>\n",
       "      <td>COURSE</td>\n",
       "      <td>4.8</td>\n",
       "      <td>Mixed</td>\n",
       "      <td>1800000.0</td>\n",
       "      <td>['Python Syntax And Semantics', 'Basic Program...</td>\n",
       "    </tr>\n",
       "  </tbody>\n",
       "</table>\n",
       "</div>"
      ],
      "text/plain": [
       "                                          course_title  \\\n",
       "6                                     Machine Learning   \n",
       "12                           The Science of Well-Being   \n",
       "117  Learning How to Learn: Powerful mental tools t...   \n",
       "3                                 Python for Everybody   \n",
       "51   Programming for Everybody (Getting Started wit...   \n",
       "\n",
       "                    course_organization course_Certificate_type  \\\n",
       "6                   Stanford University                  COURSE   \n",
       "12                      Yale University                  COURSE   \n",
       "117  University of California San Diego                  COURSE   \n",
       "3                University of Michigan          SPECIALIZATION   \n",
       "51               University of Michigan                  COURSE   \n",
       "\n",
       "     course_rating course_difficulty   students  \\\n",
       "6              4.9             Mixed  3600000.0   \n",
       "12             4.9             Mixed  3000000.0   \n",
       "117            4.8             Mixed  2500000.0   \n",
       "3              4.8          Beginner  2000000.0   \n",
       "51             4.8             Mixed  1800000.0   \n",
       "\n",
       "                                         course_skills  \n",
       "6    ['Logistic Regression', 'Artificial Neural Net...  \n",
       "12   ['Gratitude', 'Happiness', 'Meditation', 'Savo...  \n",
       "117  ['Test Preparation', 'Learning To Learn', 'Pom...  \n",
       "3    ['Json', 'Xml', 'Python Programming', 'Databas...  \n",
       "51   ['Python Syntax And Semantics', 'Basic Program...  "
      ]
     },
     "execution_count": 41,
     "metadata": {},
     "output_type": "execute_result"
    }
   ],
   "source": [
    "y = df_coursera.loc[df_coursera['students'] >= 300_000].sort_values(by='students', ascending=False)\n",
    "y.head()"
   ]
  },
  {
   "cell_type": "markdown",
   "id": "ec83e664",
   "metadata": {},
   "source": [
    "Select only courses having equal or more than 300_000 students enrolled as variable 'y'. And I will call it 'popular courses'"
   ]
  },
  {
   "cell_type": "code",
   "execution_count": 27,
   "id": "69408bde",
   "metadata": {},
   "outputs": [
    {
     "data": {
      "text/html": [
       "<div>\n",
       "<style scoped>\n",
       "    .dataframe tbody tr th:only-of-type {\n",
       "        vertical-align: middle;\n",
       "    }\n",
       "\n",
       "    .dataframe tbody tr th {\n",
       "        vertical-align: top;\n",
       "    }\n",
       "\n",
       "    .dataframe thead th {\n",
       "        text-align: right;\n",
       "    }\n",
       "</style>\n",
       "<table border=\"1\" class=\"dataframe\">\n",
       "  <thead>\n",
       "    <tr style=\"text-align: right;\">\n",
       "      <th></th>\n",
       "      <th>skill</th>\n",
       "      <th>frequency</th>\n",
       "    </tr>\n",
       "  </thead>\n",
       "  <tbody>\n",
       "    <tr>\n",
       "      <th>256</th>\n",
       "      <td>'Python Programming'</td>\n",
       "      <td>15</td>\n",
       "    </tr>\n",
       "    <tr>\n",
       "      <th>185</th>\n",
       "      <td>'Machine Learning'</td>\n",
       "      <td>10</td>\n",
       "    </tr>\n",
       "    <tr>\n",
       "      <th>52</th>\n",
       "      <td>'Cloud Computing'</td>\n",
       "      <td>10</td>\n",
       "    </tr>\n",
       "    <tr>\n",
       "      <th>127</th>\n",
       "      <td>'Google App Engine (GAE)'</td>\n",
       "      <td>9</td>\n",
       "    </tr>\n",
       "    <tr>\n",
       "      <th>128</th>\n",
       "      <td>'Google Cloud Platform'</td>\n",
       "      <td>9</td>\n",
       "    </tr>\n",
       "    <tr>\n",
       "      <th>91</th>\n",
       "      <td>'Debugging'</td>\n",
       "      <td>9</td>\n",
       "    </tr>\n",
       "    <tr>\n",
       "      <th>129</th>\n",
       "      <td>'Google Compute Engine'</td>\n",
       "      <td>9</td>\n",
       "    </tr>\n",
       "    <tr>\n",
       "      <th>78</th>\n",
       "      <td>'Data Analysis'</td>\n",
       "      <td>8</td>\n",
       "    </tr>\n",
       "    <tr>\n",
       "      <th>84</th>\n",
       "      <td>'Data Science'</td>\n",
       "      <td>8</td>\n",
       "    </tr>\n",
       "    <tr>\n",
       "      <th>94</th>\n",
       "      <td>'Deep Learning'</td>\n",
       "      <td>7</td>\n",
       "    </tr>\n",
       "    <tr>\n",
       "      <th>269</th>\n",
       "      <td>'SQL'</td>\n",
       "      <td>6</td>\n",
       "    </tr>\n",
       "    <tr>\n",
       "      <th>62</th>\n",
       "      <td>'Computer Programming'</td>\n",
       "      <td>6</td>\n",
       "    </tr>\n",
       "    <tr>\n",
       "      <th>59</th>\n",
       "      <td>'Communication'</td>\n",
       "      <td>6</td>\n",
       "    </tr>\n",
       "    <tr>\n",
       "      <th>225</th>\n",
       "      <td>'Pandas'</td>\n",
       "      <td>5</td>\n",
       "    </tr>\n",
       "    <tr>\n",
       "      <th>86</th>\n",
       "      <td>'Data Structure'</td>\n",
       "      <td>5</td>\n",
       "    </tr>\n",
       "    <tr>\n",
       "      <th>217</th>\n",
       "      <td>'Numpy'</td>\n",
       "      <td>5</td>\n",
       "    </tr>\n",
       "    <tr>\n",
       "      <th>319</th>\n",
       "      <td>'Writing'</td>\n",
       "      <td>5</td>\n",
       "    </tr>\n",
       "    <tr>\n",
       "      <th>144</th>\n",
       "      <td>'Html'</td>\n",
       "      <td>5</td>\n",
       "    </tr>\n",
       "    <tr>\n",
       "      <th>243</th>\n",
       "      <td>'Problem Solving'</td>\n",
       "      <td>4</td>\n",
       "    </tr>\n",
       "    <tr>\n",
       "      <th>55</th>\n",
       "      <td>'Cloud Storage'</td>\n",
       "      <td>4</td>\n",
       "    </tr>\n",
       "  </tbody>\n",
       "</table>\n",
       "</div>"
      ],
      "text/plain": [
       "                         skill  frequency\n",
       "256       'Python Programming'         15\n",
       "185         'Machine Learning'         10\n",
       "52           'Cloud Computing'         10\n",
       "127  'Google App Engine (GAE)'          9\n",
       "128    'Google Cloud Platform'          9\n",
       "91                 'Debugging'          9\n",
       "129    'Google Compute Engine'          9\n",
       "78             'Data Analysis'          8\n",
       "84              'Data Science'          8\n",
       "94             'Deep Learning'          7\n",
       "269                      'SQL'          6\n",
       "62      'Computer Programming'          6\n",
       "59             'Communication'          6\n",
       "225                   'Pandas'          5\n",
       "86            'Data Structure'          5\n",
       "217                    'Numpy'          5\n",
       "319                  'Writing'          5\n",
       "144                     'Html'          5\n",
       "243          'Problem Solving'          4\n",
       "55             'Cloud Storage'          4"
      ]
     },
     "execution_count": 27,
     "metadata": {},
     "output_type": "execute_result"
    }
   ],
   "source": [
    "d = Counter(chain(*y.course_skills)) \n",
    "z = pd.Series(d).sort_index().rename_axis('skill').reset_index(name='frequency').sort_values(by='frequency', ascending=False).head(20)\n",
    "z"
   ]
  },
  {
   "cell_type": "code",
   "execution_count": 28,
   "id": "5a8d8705",
   "metadata": {},
   "outputs": [
    {
     "data": {
      "text/plain": [
       "Text(0.5, 1.0, 'Top 20 skill course of popular courses on Coursera')"
      ]
     },
     "execution_count": 28,
     "metadata": {},
     "output_type": "execute_result"
    },
    {
     "data": {
      "image/png": "[encoded data removed]",
      "text/plain": [
       "<Figure size 720x576 with 1 Axes>"
      ]
     },
     "metadata": {
      "needs_background": "light"
     },
     "output_type": "display_data"
    }
   ],
   "source": [
    "z.sort_values(by='frequency').plot(kind='barh', x='skill', y='frequency', color='salmon',alpha=0.7 , figsize=(10,8))\n",
    "plt.title('Top 20 skill course of popular courses on Coursera')"
   ]
  },
  {
   "cell_type": "markdown",
   "id": "db477c40",
   "metadata": {},
   "source": [
    "Most of 'popular courses' offer only Programing skills, and Software skills.<br>\n",
    "It means people quite interested Coursera because of these skills."
   ]
  },
  {
   "cell_type": "code",
   "execution_count": 29,
   "id": "48de488e",
   "metadata": {},
   "outputs": [
    {
     "data": {
      "text/plain": [
       "Text(0.5, 1.0, 'Course difficulty of popular courses on Coursera')"
      ]
     },
     "execution_count": 29,
     "metadata": {},
     "output_type": "execute_result"
    },
    {
     "data": {
      "image/png": "[encoded data removed]",
      "text/plain": [
       "<Figure size 432x288 with 1 Axes>"
      ]
     },
     "metadata": {
      "needs_background": "light"
     },
     "output_type": "display_data"
    }
   ],
   "source": [
    "y['course_difficulty'].value_counts().plot(kind='bar', color=['cornflowerblue', 'orange', 'limegreen'])\n",
    "plt.xticks(rotation=60)\n",
    "plt.title('Course difficulty of popular courses on Coursera')"
   ]
  },
  {
   "cell_type": "markdown",
   "id": "4c1acd70",
   "metadata": {},
   "source": [
    "And more than the half of 'popular courses' is Beginner course.<br>\n",
    "We can assume that there's really a lot of people on Coursera are beginner.<br>\n",
    "> Maybe that if we are online learning provider, we should only focus on creating beginner course, <br>\n",
    "and only some intermediate course which relating to Programming and Software skills"
   ]
  },
  {
   "cell_type": "code",
   "execution_count": 30,
   "id": "9838f344",
   "metadata": {},
   "outputs": [
    {
     "data": {
      "text/plain": [
       "Text(0.5, 1.0, 'Certificate type of popular courses on Coursera')"
      ]
     },
     "execution_count": 30,
     "metadata": {},
     "output_type": "execute_result"
    },
    {
     "data": {
      "image/png": "[encoded data removed]",
      "text/plain": [
       "<Figure size 432x288 with 1 Axes>"
      ]
     },
     "metadata": {},
     "output_type": "display_data"
    }
   ],
   "source": [
    "y['course_Certificate_type'].value_counts().plot(kind='pie', autopct='%1.0f%%')\n",
    "plt.title('Certificate type of popular courses on Coursera')"
   ]
  },
  {
   "cell_type": "markdown",
   "id": "da4e6832",
   "metadata": {},
   "source": [
    "From earlier, 'Professional certificate' type is a lot lesser than other type of 'All courses'.<br>\n",
    "But in 'popular courses', 'Professional certificate' type has more percentage compare to earlier.<br>\n",
    "> So I assume from data that a lot of learners, most beginner, want something to approve them as 'Professional' after finishing the courses.<br>\n",
    "(Regular courses also give learners a certificate after finishing the courses)"
   ]
  },
  {
   "cell_type": "code",
   "execution_count": 51,
   "id": "2426f35f",
   "metadata": {},
   "outputs": [
    {
     "data": {
      "text/plain": [
       "461428.5714285714"
      ]
     },
     "execution_count": 51,
     "metadata": {},
     "output_type": "execute_result"
    }
   ],
   "source": [
    "(y.loc[y['course_Certificate_type'] == 'PROFESSIONAL CERTIFICATE'])['students'].mean()\n",
    "# Reminder: y stands for popular course"
   ]
  },
  {
   "cell_type": "code",
   "execution_count": 50,
   "id": "2426f35f",
   "metadata": {},
   "outputs": [
    {
     "data": {
      "text/plain": [
       "608701.2987012987"
      ]
     },
     "execution_count": 50,
     "metadata": {},
     "output_type": "execute_result"
    }
   ],
   "source": [
    "(y.loc[y['course_Certificate_type'] != 'PROFESSIONAL CERTIFICATE'])['students'].mean()"
   ]
  },
  {
   "cell_type": "markdown",
   "id": "8282e92a",
   "metadata": {},
   "source": [
    "Not \"every learner\" in popular courses interested in professional certificate. It's only about 40-60 percent (40 for professional certificate)."
   ]
  },
  {
   "cell_type": "markdown",
   "id": "4ea1e682",
   "metadata": {},
   "source": [
    "---"
   ]
  },
  {
   "cell_type": "code",
   "execution_count": 31,
   "id": "20dce7ff",
   "metadata": {},
   "outputs": [
    {
     "data": {
      "text/html": [
       "<div>\n",
       "<style scoped>\n",
       "    .dataframe tbody tr th:only-of-type {\n",
       "        vertical-align: middle;\n",
       "    }\n",
       "\n",
       "    .dataframe tbody tr th {\n",
       "        vertical-align: top;\n",
       "    }\n",
       "\n",
       "    .dataframe thead th {\n",
       "        text-align: right;\n",
       "    }\n",
       "</style>\n",
       "<table border=\"1\" class=\"dataframe\">\n",
       "  <thead>\n",
       "    <tr style=\"text-align: right;\">\n",
       "      <th></th>\n",
       "      <th>Title</th>\n",
       "      <th>Overall_Rating</th>\n",
       "      <th>No_of_Ratings</th>\n",
       "      <th>Category</th>\n",
       "      <th>Subcategory</th>\n",
       "      <th>Topic</th>\n",
       "      <th>Bestseller</th>\n",
       "      <th>Price</th>\n",
       "      <th>discount</th>\n",
       "    </tr>\n",
       "  </thead>\n",
       "  <tbody>\n",
       "    <tr>\n",
       "      <th>0</th>\n",
       "      <td>Complete Hypnotherapy &amp; Hypnosis Certification...</td>\n",
       "      <td>4.7</td>\n",
       "      <td>3524</td>\n",
       "      <td>Lifestyle</td>\n",
       "      <td>Esoteric Practices</td>\n",
       "      <td>Hypnotherapy</td>\n",
       "      <td>Yes</td>\n",
       "      <td>104.98</td>\n",
       "      <td>26.0</td>\n",
       "    </tr>\n",
       "    <tr>\n",
       "      <th>1</th>\n",
       "      <td>Pinterest Marketing for Wedding Professionals ...</td>\n",
       "      <td>5.0</td>\n",
       "      <td>1</td>\n",
       "      <td>Marketing</td>\n",
       "      <td>Social Media Marketing</td>\n",
       "      <td>Pinterest Marketing</td>\n",
       "      <td>No</td>\n",
       "      <td>29.98</td>\n",
       "      <td>22.0</td>\n",
       "    </tr>\n",
       "    <tr>\n",
       "      <th>2</th>\n",
       "      <td>Master the Telephone Sales- Cold calling Secrets</td>\n",
       "      <td>4.5</td>\n",
       "      <td>3</td>\n",
       "      <td>Marketing</td>\n",
       "      <td>Product Marketing</td>\n",
       "      <td>Marketing Strategy</td>\n",
       "      <td>No</td>\n",
       "      <td>29.98</td>\n",
       "      <td>22.0</td>\n",
       "    </tr>\n",
       "    <tr>\n",
       "      <th>3</th>\n",
       "      <td>5 Practical Management concepts you MUST know</td>\n",
       "      <td>5.0</td>\n",
       "      <td>2</td>\n",
       "      <td>Personal Development</td>\n",
       "      <td>Leadership</td>\n",
       "      <td>Management Skills</td>\n",
       "      <td>No</td>\n",
       "      <td>49.98</td>\n",
       "      <td>22.0</td>\n",
       "    </tr>\n",
       "    <tr>\n",
       "      <th>4</th>\n",
       "      <td>Fermented Foods Mastery</td>\n",
       "      <td>4.5</td>\n",
       "      <td>187</td>\n",
       "      <td>Health &amp; Fitness</td>\n",
       "      <td>Nutrition</td>\n",
       "      <td>Fermented Foods</td>\n",
       "      <td>No</td>\n",
       "      <td>68.98</td>\n",
       "      <td>24.0</td>\n",
       "    </tr>\n",
       "  </tbody>\n",
       "</table>\n",
       "</div>"
      ],
      "text/plain": [
       "                                               Title  Overall_Rating  \\\n",
       "0  Complete Hypnotherapy & Hypnosis Certification...             4.7   \n",
       "1  Pinterest Marketing for Wedding Professionals ...             5.0   \n",
       "2   Master the Telephone Sales- Cold calling Secrets             4.5   \n",
       "3      5 Practical Management concepts you MUST know             5.0   \n",
       "4                            Fermented Foods Mastery             4.5   \n",
       "\n",
       "   No_of_Ratings              Category             Subcategory  \\\n",
       "0           3524             Lifestyle      Esoteric Practices   \n",
       "1              1             Marketing  Social Media Marketing   \n",
       "2              3             Marketing       Product Marketing   \n",
       "3              2  Personal Development              Leadership   \n",
       "4            187      Health & Fitness               Nutrition   \n",
       "\n",
       "                 Topic Bestseller   Price  discount  \n",
       "0         Hypnotherapy        Yes  104.98      26.0  \n",
       "1  Pinterest Marketing         No   29.98      22.0  \n",
       "2   Marketing Strategy         No   29.98      22.0  \n",
       "3    Management Skills         No   49.98      22.0  \n",
       "4      Fermented Foods         No   68.98      24.0  "
      ]
     },
     "execution_count": 31,
     "metadata": {},
     "output_type": "execute_result"
    }
   ],
   "source": [
    "df_udemy.head()"
   ]
  },
  {
   "cell_type": "code",
   "execution_count": 44,
   "id": "3364d9ec",
   "metadata": {},
   "outputs": [
    {
     "data": {
      "text/html": [
       "<div>\n",
       "<style scoped>\n",
       "    .dataframe tbody tr th:only-of-type {\n",
       "        vertical-align: middle;\n",
       "    }\n",
       "\n",
       "    .dataframe tbody tr th {\n",
       "        vertical-align: top;\n",
       "    }\n",
       "\n",
       "    .dataframe thead th {\n",
       "        text-align: right;\n",
       "    }\n",
       "</style>\n",
       "<table border=\"1\" class=\"dataframe\">\n",
       "  <thead>\n",
       "    <tr style=\"text-align: right;\">\n",
       "      <th></th>\n",
       "      <th>Title</th>\n",
       "      <th>Overall_Rating</th>\n",
       "      <th>No_of_Ratings</th>\n",
       "      <th>Category</th>\n",
       "      <th>Subcategory</th>\n",
       "      <th>Topic</th>\n",
       "      <th>Bestseller</th>\n",
       "      <th>Price</th>\n",
       "      <th>discount</th>\n",
       "    </tr>\n",
       "  </thead>\n",
       "  <tbody>\n",
       "    <tr>\n",
       "      <th>1249</th>\n",
       "      <td>2021 Complete Python Bootcamp From Zero to Her...</td>\n",
       "      <td>4.6</td>\n",
       "      <td>374285</td>\n",
       "      <td>Development</td>\n",
       "      <td>Programming Languages</td>\n",
       "      <td>Python</td>\n",
       "      <td>Yes</td>\n",
       "      <td>198.98</td>\n",
       "      <td>33.0</td>\n",
       "    </tr>\n",
       "    <tr>\n",
       "      <th>6460</th>\n",
       "      <td>Microsoft Excel - Excel from Beginner to Advanced</td>\n",
       "      <td>4.6</td>\n",
       "      <td>240810</td>\n",
       "      <td>Office Productivity</td>\n",
       "      <td>Microsoft</td>\n",
       "      <td>Excel</td>\n",
       "      <td>Yes</td>\n",
       "      <td>128.98</td>\n",
       "      <td>22.0</td>\n",
       "    </tr>\n",
       "    <tr>\n",
       "      <th>6575</th>\n",
       "      <td>The Web Developer Bootcamp 2021</td>\n",
       "      <td>4.7</td>\n",
       "      <td>210136</td>\n",
       "      <td>Development</td>\n",
       "      <td>Web Development</td>\n",
       "      <td>NaN</td>\n",
       "      <td>No</td>\n",
       "      <td>128.98</td>\n",
       "      <td>22.0</td>\n",
       "    </tr>\n",
       "    <tr>\n",
       "      <th>5645</th>\n",
       "      <td>Angular - The Complete Guide (2021 Edition)</td>\n",
       "      <td>4.6</td>\n",
       "      <td>148888</td>\n",
       "      <td>Development</td>\n",
       "      <td>Web Development</td>\n",
       "      <td>Angular</td>\n",
       "      <td>Yes</td>\n",
       "      <td>128.98</td>\n",
       "      <td>22.0</td>\n",
       "    </tr>\n",
       "    <tr>\n",
       "      <th>5640</th>\n",
       "      <td>Machine Learning A-Z™: Hands-On Python &amp; R In ...</td>\n",
       "      <td>4.5</td>\n",
       "      <td>148491</td>\n",
       "      <td>Development</td>\n",
       "      <td>Data Science</td>\n",
       "      <td>Python</td>\n",
       "      <td>Yes</td>\n",
       "      <td>128.98</td>\n",
       "      <td>22.0</td>\n",
       "    </tr>\n",
       "    <tr>\n",
       "      <th>8148</th>\n",
       "      <td>Java Programming Masterclass covering Java 11 ...</td>\n",
       "      <td>4.6</td>\n",
       "      <td>144174</td>\n",
       "      <td>Development</td>\n",
       "      <td>Programming Languages</td>\n",
       "      <td>Java</td>\n",
       "      <td>Yes</td>\n",
       "      <td>128.98</td>\n",
       "      <td>22.0</td>\n",
       "    </tr>\n",
       "  </tbody>\n",
       "</table>\n",
       "</div>"
      ],
      "text/plain": [
       "                                                  Title  Overall_Rating  \\\n",
       "1249  2021 Complete Python Bootcamp From Zero to Her...             4.6   \n",
       "6460  Microsoft Excel - Excel from Beginner to Advanced             4.6   \n",
       "6575                    The Web Developer Bootcamp 2021             4.7   \n",
       "5645        Angular - The Complete Guide (2021 Edition)             4.6   \n",
       "5640  Machine Learning A-Z™: Hands-On Python & R In ...             4.5   \n",
       "8148  Java Programming Masterclass covering Java 11 ...             4.6   \n",
       "\n",
       "      No_of_Ratings             Category            Subcategory    Topic  \\\n",
       "1249         374285          Development  Programming Languages   Python   \n",
       "6460         240810  Office Productivity              Microsoft    Excel   \n",
       "6575         210136          Development        Web Development      NaN   \n",
       "5645         148888          Development        Web Development  Angular   \n",
       "5640         148491          Development           Data Science   Python   \n",
       "8148         144174          Development  Programming Languages     Java   \n",
       "\n",
       "     Bestseller   Price  discount  \n",
       "1249        Yes  198.98      33.0  \n",
       "6460        Yes  128.98      22.0  \n",
       "6575         No  128.98      22.0  \n",
       "5645        Yes  128.98      22.0  \n",
       "5640        Yes  128.98      22.0  \n",
       "8148        Yes  128.98      22.0  "
      ]
     },
     "execution_count": 44,
     "metadata": {},
     "output_type": "execute_result"
    }
   ],
   "source": [
    "df_udemy.sort_values(by='No_of_Ratings', ascending=False).head(6)\n"
   ]
  },
  {
   "cell_type": "markdown",
   "id": "2d91bdcd",
   "metadata": {},
   "source": [
    "Preview of courses sorted by number of ratings.<br>\n",
    "I refer that the more number of ratings, the more students enrolled in the course."
   ]
  },
  {
   "cell_type": "code",
   "execution_count": 33,
   "id": "b293a928",
   "metadata": {},
   "outputs": [
    {
     "data": {
      "text/plain": [
       "Text(0.5, 0, 'Number of courses')"
      ]
     },
     "execution_count": 33,
     "metadata": {},
     "output_type": "execute_result"
    },
    {
     "data": {
      "image/png": "[encoded data removed]",
      "text/plain": [
       "<Figure size 432x288 with 1 Axes>"
      ]
     },
     "metadata": {
      "needs_background": "light"
     },
     "output_type": "display_data"
    }
   ],
   "source": [
    "df_udemy['Subcategory'].value_counts(ascending=True).tail(15).plot(kind='barh', color='royalblue')\n",
    "plt.title('Most 15 Subcategories Udemy offered')\n",
    "plt.xlabel('Number of courses')\n",
    "# What courses on Udemy offered"
   ]
  },
  {
   "cell_type": "markdown",
   "id": "8e41ecd1",
   "metadata": {},
   "source": [
    "Udemy offered various of skills, so we can't tell which one is the most highlighted. \n",
    "> I choose to show Subcategory because, classification of 'Category' column and values in 'Topic' columns are both vague."
   ]
  },
  {
   "cell_type": "code",
   "execution_count": 35,
   "id": "d56a8e97",
   "metadata": {},
   "outputs": [
    {
     "data": {
      "text/html": [
       "<div>\n",
       "<style scoped>\n",
       "    .dataframe tbody tr th:only-of-type {\n",
       "        vertical-align: middle;\n",
       "    }\n",
       "\n",
       "    .dataframe tbody tr th {\n",
       "        vertical-align: top;\n",
       "    }\n",
       "\n",
       "    .dataframe thead th {\n",
       "        text-align: right;\n",
       "    }\n",
       "</style>\n",
       "<table border=\"1\" class=\"dataframe\">\n",
       "  <thead>\n",
       "    <tr style=\"text-align: right;\">\n",
       "      <th></th>\n",
       "      <th>Title</th>\n",
       "      <th>Overall_Rating</th>\n",
       "      <th>No_of_Ratings</th>\n",
       "      <th>Category</th>\n",
       "      <th>Subcategory</th>\n",
       "      <th>Topic</th>\n",
       "      <th>Bestseller</th>\n",
       "      <th>Price</th>\n",
       "      <th>discount</th>\n",
       "    </tr>\n",
       "  </thead>\n",
       "  <tbody>\n",
       "    <tr>\n",
       "      <th>1249</th>\n",
       "      <td>2021 Complete Python Bootcamp From Zero to Her...</td>\n",
       "      <td>4.6</td>\n",
       "      <td>374285</td>\n",
       "      <td>Development</td>\n",
       "      <td>Programming Languages</td>\n",
       "      <td>Python</td>\n",
       "      <td>Yes</td>\n",
       "      <td>198.98</td>\n",
       "      <td>33.0</td>\n",
       "    </tr>\n",
       "    <tr>\n",
       "      <th>6460</th>\n",
       "      <td>Microsoft Excel - Excel from Beginner to Advanced</td>\n",
       "      <td>4.6</td>\n",
       "      <td>240810</td>\n",
       "      <td>Office Productivity</td>\n",
       "      <td>Microsoft</td>\n",
       "      <td>Excel</td>\n",
       "      <td>Yes</td>\n",
       "      <td>128.98</td>\n",
       "      <td>22.0</td>\n",
       "    </tr>\n",
       "    <tr>\n",
       "      <th>6575</th>\n",
       "      <td>The Web Developer Bootcamp 2021</td>\n",
       "      <td>4.7</td>\n",
       "      <td>210136</td>\n",
       "      <td>Development</td>\n",
       "      <td>Web Development</td>\n",
       "      <td>NaN</td>\n",
       "      <td>No</td>\n",
       "      <td>128.98</td>\n",
       "      <td>22.0</td>\n",
       "    </tr>\n",
       "    <tr>\n",
       "      <th>5645</th>\n",
       "      <td>Angular - The Complete Guide (2021 Edition)</td>\n",
       "      <td>4.6</td>\n",
       "      <td>148888</td>\n",
       "      <td>Development</td>\n",
       "      <td>Web Development</td>\n",
       "      <td>Angular</td>\n",
       "      <td>Yes</td>\n",
       "      <td>128.98</td>\n",
       "      <td>22.0</td>\n",
       "    </tr>\n",
       "    <tr>\n",
       "      <th>5640</th>\n",
       "      <td>Machine Learning A-Z™: Hands-On Python &amp; R In ...</td>\n",
       "      <td>4.5</td>\n",
       "      <td>148491</td>\n",
       "      <td>Development</td>\n",
       "      <td>Data Science</td>\n",
       "      <td>Python</td>\n",
       "      <td>Yes</td>\n",
       "      <td>128.98</td>\n",
       "      <td>22.0</td>\n",
       "    </tr>\n",
       "    <tr>\n",
       "      <th>...</th>\n",
       "      <td>...</td>\n",
       "      <td>...</td>\n",
       "      <td>...</td>\n",
       "      <td>...</td>\n",
       "      <td>...</td>\n",
       "      <td>...</td>\n",
       "      <td>...</td>\n",
       "      <td>...</td>\n",
       "      <td>...</td>\n",
       "    </tr>\n",
       "    <tr>\n",
       "      <th>11379</th>\n",
       "      <td>Modern JavaScript From The Beginning</td>\n",
       "      <td>4.7</td>\n",
       "      <td>25884</td>\n",
       "      <td>Development</td>\n",
       "      <td>Web Development</td>\n",
       "      <td>JavaScript</td>\n",
       "      <td>No</td>\n",
       "      <td>128.98</td>\n",
       "      <td>22.0</td>\n",
       "    </tr>\n",
       "    <tr>\n",
       "      <th>4440</th>\n",
       "      <td>Learn and Understand NodeJS</td>\n",
       "      <td>4.6</td>\n",
       "      <td>25692</td>\n",
       "      <td>Development</td>\n",
       "      <td>Web Development</td>\n",
       "      <td>Node.Js</td>\n",
       "      <td>No</td>\n",
       "      <td>128.98</td>\n",
       "      <td>22.0</td>\n",
       "    </tr>\n",
       "    <tr>\n",
       "      <th>14736</th>\n",
       "      <td>Scrum Certification Prep +Scrum Master+ Agile ...</td>\n",
       "      <td>4.4</td>\n",
       "      <td>25635</td>\n",
       "      <td>Development</td>\n",
       "      <td>Software Engineering</td>\n",
       "      <td>Agile</td>\n",
       "      <td>Yes</td>\n",
       "      <td>128.98</td>\n",
       "      <td>18.0</td>\n",
       "    </tr>\n",
       "    <tr>\n",
       "      <th>1692</th>\n",
       "      <td>Machine Learning, Data Science and Deep Learni...</td>\n",
       "      <td>4.6</td>\n",
       "      <td>25469</td>\n",
       "      <td>Development</td>\n",
       "      <td>Data Science</td>\n",
       "      <td>Machine Learning</td>\n",
       "      <td>No</td>\n",
       "      <td>128.98</td>\n",
       "      <td>22.0</td>\n",
       "    </tr>\n",
       "    <tr>\n",
       "      <th>567</th>\n",
       "      <td>The Complete Investment Banking Course 2021</td>\n",
       "      <td>4.5</td>\n",
       "      <td>25068</td>\n",
       "      <td>Finance &amp; Accounting</td>\n",
       "      <td>Finance</td>\n",
       "      <td>Investment Banking</td>\n",
       "      <td>Yes</td>\n",
       "      <td>148.98</td>\n",
       "      <td>24.0</td>\n",
       "    </tr>\n",
       "  </tbody>\n",
       "</table>\n",
       "<p>113 rows × 9 columns</p>\n",
       "</div>"
      ],
      "text/plain": [
       "                                                   Title  Overall_Rating  \\\n",
       "1249   2021 Complete Python Bootcamp From Zero to Her...             4.6   \n",
       "6460   Microsoft Excel - Excel from Beginner to Advanced             4.6   \n",
       "6575                     The Web Developer Bootcamp 2021             4.7   \n",
       "5645         Angular - The Complete Guide (2021 Edition)             4.6   \n",
       "5640   Machine Learning A-Z™: Hands-On Python & R In ...             4.5   \n",
       "...                                                  ...             ...   \n",
       "11379               Modern JavaScript From The Beginning             4.7   \n",
       "4440                         Learn and Understand NodeJS             4.6   \n",
       "14736  Scrum Certification Prep +Scrum Master+ Agile ...             4.4   \n",
       "1692   Machine Learning, Data Science and Deep Learni...             4.6   \n",
       "567          The Complete Investment Banking Course 2021             4.5   \n",
       "\n",
       "       No_of_Ratings              Category            Subcategory  \\\n",
       "1249          374285           Development  Programming Languages   \n",
       "6460          240810   Office Productivity              Microsoft   \n",
       "6575          210136           Development        Web Development   \n",
       "5645          148888           Development        Web Development   \n",
       "5640          148491           Development           Data Science   \n",
       "...              ...                   ...                    ...   \n",
       "11379          25884           Development        Web Development   \n",
       "4440           25692           Development        Web Development   \n",
       "14736          25635           Development   Software Engineering   \n",
       "1692           25469           Development           Data Science   \n",
       "567            25068  Finance & Accounting                Finance   \n",
       "\n",
       "                    Topic Bestseller   Price  discount  \n",
       "1249               Python        Yes  198.98      33.0  \n",
       "6460                Excel        Yes  128.98      22.0  \n",
       "6575                  NaN         No  128.98      22.0  \n",
       "5645              Angular        Yes  128.98      22.0  \n",
       "5640               Python        Yes  128.98      22.0  \n",
       "...                   ...        ...     ...       ...  \n",
       "11379          JavaScript         No  128.98      22.0  \n",
       "4440              Node.Js         No  128.98      22.0  \n",
       "14736               Agile        Yes  128.98      18.0  \n",
       "1692     Machine Learning         No  128.98      22.0  \n",
       "567    Investment Banking        Yes  148.98      24.0  \n",
       "\n",
       "[113 rows x 9 columns]"
      ]
     },
     "execution_count": 35,
     "metadata": {},
     "output_type": "execute_result"
    }
   ],
   "source": [
    "a = df_udemy.loc[df_udemy['No_of_Ratings'] >= 25_000]\n",
    "a.sort_values(by='No_of_Ratings', ascending=False)\n",
    "# choose only quite popular course (by No_of_Ratings)"
   ]
  },
  {
   "cell_type": "markdown",
   "id": "ec83e664",
   "metadata": {},
   "source": [
    "Select only courses having equal or more than 25_000 number of ratings as variable 'a'. And I will call it 'popular courses'"
   ]
  },
  {
   "cell_type": "code",
   "execution_count": 36,
   "id": "204f88d0",
   "metadata": {},
   "outputs": [
    {
     "data": {
      "text/plain": [
       "Text(0.5, 1.0, 'Top 15 subcategory of popular courses on Udemy')"
      ]
     },
     "execution_count": 36,
     "metadata": {},
     "output_type": "execute_result"
    },
    {
     "data": {
      "image/png": "[encoded data removed]",
      "text/plain": [
       "<Figure size 432x288 with 1 Axes>"
      ]
     },
     "metadata": {
      "needs_background": "light"
     },
     "output_type": "display_data"
    }
   ],
   "source": [
    "a['Subcategory'].value_counts().head(15).plot(kind='barh', color='violet')\n",
    "plt.gca().invert_yaxis()\n",
    "plt.xlabel('Frequency')\n",
    "plt.title('Top 15 subcategory of popular courses on Udemy')"
   ]
  },
  {
   "cell_type": "markdown",
   "id": "8c744b19",
   "metadata": {},
   "source": [
    "Popular courses (about 100 courses) offered Programming skills, Business skills, IT skills, and some Investment, Graphic design."
   ]
  },
  {
   "cell_type": "code",
   "execution_count": 54,
   "id": "c2684b95",
   "metadata": {},
   "outputs": [
    {
     "data": {
      "text/html": [
       "<div>\n",
       "<style scoped>\n",
       "    .dataframe tbody tr th:only-of-type {\n",
       "        vertical-align: middle;\n",
       "    }\n",
       "\n",
       "    .dataframe tbody tr th {\n",
       "        vertical-align: top;\n",
       "    }\n",
       "\n",
       "    .dataframe thead th {\n",
       "        text-align: right;\n",
       "    }\n",
       "</style>\n",
       "<table border=\"1\" class=\"dataframe\">\n",
       "  <thead>\n",
       "    <tr style=\"text-align: right;\">\n",
       "      <th></th>\n",
       "      <th>Title</th>\n",
       "      <th>Overall_Rating</th>\n",
       "      <th>No_of_Ratings</th>\n",
       "      <th>Category</th>\n",
       "      <th>Subcategory</th>\n",
       "      <th>Topic</th>\n",
       "      <th>Bestseller</th>\n",
       "      <th>Price</th>\n",
       "      <th>discount</th>\n",
       "    </tr>\n",
       "  </thead>\n",
       "  <tbody>\n",
       "    <tr>\n",
       "      <th>1249</th>\n",
       "      <td>2021 Complete Python Bootcamp From Zero to Her...</td>\n",
       "      <td>4.6</td>\n",
       "      <td>374285</td>\n",
       "      <td>Development</td>\n",
       "      <td>Programming Languages</td>\n",
       "      <td>Python</td>\n",
       "      <td>Yes</td>\n",
       "      <td>198.98</td>\n",
       "      <td>33.0</td>\n",
       "    </tr>\n",
       "    <tr>\n",
       "      <th>6460</th>\n",
       "      <td>Microsoft Excel - Excel from Beginner to Advanced</td>\n",
       "      <td>4.6</td>\n",
       "      <td>240810</td>\n",
       "      <td>Office Productivity</td>\n",
       "      <td>Microsoft</td>\n",
       "      <td>Excel</td>\n",
       "      <td>Yes</td>\n",
       "      <td>128.98</td>\n",
       "      <td>22.0</td>\n",
       "    </tr>\n",
       "    <tr>\n",
       "      <th>5645</th>\n",
       "      <td>Angular - The Complete Guide (2021 Edition)</td>\n",
       "      <td>4.6</td>\n",
       "      <td>148888</td>\n",
       "      <td>Development</td>\n",
       "      <td>Web Development</td>\n",
       "      <td>Angular</td>\n",
       "      <td>Yes</td>\n",
       "      <td>128.98</td>\n",
       "      <td>22.0</td>\n",
       "    </tr>\n",
       "    <tr>\n",
       "      <th>5640</th>\n",
       "      <td>Machine Learning A-Z™: Hands-On Python &amp; R In ...</td>\n",
       "      <td>4.5</td>\n",
       "      <td>148491</td>\n",
       "      <td>Development</td>\n",
       "      <td>Data Science</td>\n",
       "      <td>Python</td>\n",
       "      <td>Yes</td>\n",
       "      <td>128.98</td>\n",
       "      <td>22.0</td>\n",
       "    </tr>\n",
       "    <tr>\n",
       "      <th>8148</th>\n",
       "      <td>Java Programming Masterclass covering Java 11 ...</td>\n",
       "      <td>4.6</td>\n",
       "      <td>144174</td>\n",
       "      <td>Development</td>\n",
       "      <td>Programming Languages</td>\n",
       "      <td>Java</td>\n",
       "      <td>Yes</td>\n",
       "      <td>128.98</td>\n",
       "      <td>22.0</td>\n",
       "    </tr>\n",
       "    <tr>\n",
       "      <th>5290</th>\n",
       "      <td>The Complete 2021 Web Development Bootcamp</td>\n",
       "      <td>4.7</td>\n",
       "      <td>141689</td>\n",
       "      <td>Development</td>\n",
       "      <td>Web Development</td>\n",
       "      <td>NaN</td>\n",
       "      <td>Yes</td>\n",
       "      <td>128.98</td>\n",
       "      <td>22.0</td>\n",
       "    </tr>\n",
       "  </tbody>\n",
       "</table>\n",
       "</div>"
      ],
      "text/plain": [
       "                                                  Title  Overall_Rating  \\\n",
       "1249  2021 Complete Python Bootcamp From Zero to Her...             4.6   \n",
       "6460  Microsoft Excel - Excel from Beginner to Advanced             4.6   \n",
       "5645        Angular - The Complete Guide (2021 Edition)             4.6   \n",
       "5640  Machine Learning A-Z™: Hands-On Python & R In ...             4.5   \n",
       "8148  Java Programming Masterclass covering Java 11 ...             4.6   \n",
       "5290         The Complete 2021 Web Development Bootcamp             4.7   \n",
       "\n",
       "      No_of_Ratings             Category            Subcategory    Topic  \\\n",
       "1249         374285          Development  Programming Languages   Python   \n",
       "6460         240810  Office Productivity              Microsoft    Excel   \n",
       "5645         148888          Development        Web Development  Angular   \n",
       "5640         148491          Development           Data Science   Python   \n",
       "8148         144174          Development  Programming Languages     Java   \n",
       "5290         141689          Development        Web Development      NaN   \n",
       "\n",
       "     Bestseller   Price  discount  \n",
       "1249        Yes  198.98      33.0  \n",
       "6460        Yes  128.98      22.0  \n",
       "5645        Yes  128.98      22.0  \n",
       "5640        Yes  128.98      22.0  \n",
       "8148        Yes  128.98      22.0  \n",
       "5290        Yes  128.98      22.0  "
      ]
     },
     "execution_count": 54,
     "metadata": {},
     "output_type": "execute_result"
    }
   ],
   "source": [
    "ax = df_udemy.loc[df_udemy['Bestseller'] == 'Yes'].sort_values(by='No_of_Ratings', ascending=False).head(20)\n",
    "ax.head(6)"
   ]
  },
  {
   "cell_type": "markdown",
   "id": "70bdda2c",
   "metadata": {},
   "source": [
    "'ax' represents Top 20 courses having the most students and tagged 'Bestseller'."
   ]
  },
  {
   "cell_type": "code",
   "execution_count": 38,
   "id": "ce38ee0e",
   "metadata": {},
   "outputs": [
    {
     "data": {
      "text/plain": [
       "Text(0.5, 1.0, 'Category of Top 20 popular courses on Udemy')"
      ]
     },
     "execution_count": 38,
     "metadata": {},
     "output_type": "execute_result"
    },
    {
     "data": {
      "image/png": "[encoded data removed]",
      "text/plain": [
       "<Figure size 432x288 with 1 Axes>"
      ]
     },
     "metadata": {
      "needs_background": "light"
     },
     "output_type": "display_data"
    }
   ],
   "source": [
    "ax['Category'].value_counts().plot(kind='bar', color=['royalblue', 'dodgerblue', 'limegreen', 'forestgreen', 'orange', 'darkred'])\n",
    "plt.xticks(rotation=60)\n",
    "plt.ylabel('Frequency')\n",
    "plt.title('Category of Top 20 popular courses on Udemy')"
   ]
  },
  {
   "cell_type": "markdown",
   "id": "e2d0b00d",
   "metadata": {},
   "source": [
    "Most top 20 popular courses are in 'Development' catagory.\n",
    "> Development category is software, and programming skill "
   ]
  },
  {
   "cell_type": "code",
   "execution_count": 39,
   "id": "150db68a",
   "metadata": {},
   "outputs": [
    {
     "data": {
      "text/plain": [
       "Text(0.5, 1.0, 'Subcategory of Top 20 popular courses on Udemy')"
      ]
     },
     "execution_count": 39,
     "metadata": {},
     "output_type": "execute_result"
    },
    {
     "data": {
      "image/png": "[encoded data removed]",
      "text/plain": [
       "<Figure size 432x288 with 1 Axes>"
      ]
     },
     "metadata": {
      "needs_background": "light"
     },
     "output_type": "display_data"
    }
   ],
   "source": [
    "ax['Subcategory'].value_counts().plot(kind='barh', color='gold')\n",
    "plt.gca().invert_yaxis()\n",
    "plt.xlabel('Frequency')\n",
    "plt.title('Subcategory of Top 20 popular courses on Udemy')"
   ]
  },
  {
   "cell_type": "markdown",
   "id": "e4d37926",
   "metadata": {},
   "source": [
    "And the last graph show skills offered by top 20 popular courses on Udemy."
   ]
  },
  {
   "cell_type": "markdown",
   "id": "92d5c13f",
   "metadata": {},
   "source": [
    "As you can see, If we are online learning provider on Udemy, We should highlight more on Programming, Software, and Business courses due to <br>\n",
    "number of interested learners."
   ]
  },
  {
   "cell_type": "markdown",
   "id": "b7a61bef",
   "metadata": {},
   "source": [
    "---"
   ]
  },
  {
   "cell_type": "markdown",
   "id": "c9402e2e",
   "metadata": {},
   "source": [
    "> # End"
   ]
  }
 ],
 "metadata": {
  "kernelspec": {
   "display_name": "Python 3 (ipykernel)",
   "language": "python",
   "name": "python3"
  },
  "language_info": {
   "codemirror_mode": {
    "name": "ipython",
    "version": 3
   },
   "file_extension": ".py",
   "mimetype": "text/x-python",
   "name": "python",
   "nbconvert_exporter": "python",
   "pygments_lexer": "ipython3",
   "version": "3.10.1"
  }
 },
 "nbformat": 4,
 "nbformat_minor": 5
}
